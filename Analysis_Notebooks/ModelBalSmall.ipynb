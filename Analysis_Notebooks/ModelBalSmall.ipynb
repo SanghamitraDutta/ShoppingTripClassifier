{
 "cells": [
  {
   "cell_type": "code",
   "execution_count": 253,
   "metadata": {},
   "outputs": [
    {
     "name": "stdout",
     "output_type": "stream",
     "text": [
      "Populating the interactive namespace from numpy and matplotlib\n",
      "CPU times: user 4 µs, sys: 1e+03 ns, total: 5 µs\n",
      "Wall time: 6.91 µs\n"
     ]
    }
   ],
   "source": [
    "import pandas as pd\n",
    "import json\n",
    "\n",
    "import numpy as np\n",
    "import matplotlib.pyplot as plt\n",
    "\n",
    "import pickle \n",
    "import re\n",
    "\n",
    "import statsmodels.api as sm\n",
    "import statsmodels.formula.api as smf\n",
    "import patsy\n",
    "import seaborn as sns\n",
    "from sklearn.linear_model import LinearRegression\n",
    "from sklearn.linear_model import RidgeCV\n",
    "sns.set_style(\"darkgrid\")\n",
    "from copy import deepcopy\n",
    "from sklearn.model_selection import GridSearchCV\n",
    "from sklearn import metrics\n",
    "\n",
    "%pylab inline\n",
    "\n",
    "%matplotlib inline\n",
    "\n",
    "%time"
   ]
  },
  {
   "cell_type": "markdown",
   "metadata": {},
   "source": [
    "## Small Feature Set --- balanced"
   ]
  },
  {
   "cell_type": "code",
   "execution_count": 2,
   "metadata": {
    "collapsed": true
   },
   "outputs": [],
   "source": [
    "with open(\"../Data/TripDf.pkl\", 'rb') as picklefile: \n",
    "    TripAnalysis = pickle.load(picklefile)"
   ]
  },
  {
   "cell_type": "code",
   "execution_count": 3,
   "metadata": {},
   "outputs": [
    {
     "data": {
      "text/html": [
       "<div>\n",
       "<style>\n",
       "    .dataframe thead tr:only-child th {\n",
       "        text-align: right;\n",
       "    }\n",
       "\n",
       "    .dataframe thead th {\n",
       "        text-align: left;\n",
       "    }\n",
       "\n",
       "    .dataframe tbody tr th {\n",
       "        vertical-align: top;\n",
       "    }\n",
       "</style>\n",
       "<table border=\"1\" class=\"dataframe\">\n",
       "  <thead>\n",
       "    <tr style=\"text-align: right;\">\n",
       "      <th></th>\n",
       "      <th>TripType</th>\n",
       "      <th>VisitNumber</th>\n",
       "      <th>Weekday</th>\n",
       "      <th>Sunday</th>\n",
       "      <th>Saturday</th>\n",
       "      <th>Friday</th>\n",
       "      <th>Thursday</th>\n",
       "      <th>Wednesday</th>\n",
       "      <th>Tuesday</th>\n",
       "      <th>Monday</th>\n",
       "      <th>...</th>\n",
       "      <th>SERVICE DELI</th>\n",
       "      <th>SHEER HOSIERY</th>\n",
       "      <th>SHOES</th>\n",
       "      <th>SLEEPWEAR/FOUNDATIONS</th>\n",
       "      <th>SPORTING GOODS</th>\n",
       "      <th>SWIMWEAR/OUTERWEAR</th>\n",
       "      <th>TOYS</th>\n",
       "      <th>WIRELESS</th>\n",
       "      <th>TotProdts</th>\n",
       "      <th>CatBought</th>\n",
       "    </tr>\n",
       "  </thead>\n",
       "  <tbody>\n",
       "    <tr>\n",
       "      <th>0</th>\n",
       "      <td>999</td>\n",
       "      <td>5</td>\n",
       "      <td>Friday</td>\n",
       "      <td>0.0</td>\n",
       "      <td>0.0</td>\n",
       "      <td>1.0</td>\n",
       "      <td>0.0</td>\n",
       "      <td>0.0</td>\n",
       "      <td>0.0</td>\n",
       "      <td>0.0</td>\n",
       "      <td>...</td>\n",
       "      <td>0.0</td>\n",
       "      <td>0.0</td>\n",
       "      <td>0.0</td>\n",
       "      <td>0.0</td>\n",
       "      <td>0.0</td>\n",
       "      <td>0.0</td>\n",
       "      <td>0.0</td>\n",
       "      <td>0.0</td>\n",
       "      <td>0.0</td>\n",
       "      <td>0</td>\n",
       "    </tr>\n",
       "    <tr>\n",
       "      <th>1</th>\n",
       "      <td>30</td>\n",
       "      <td>7</td>\n",
       "      <td>Friday</td>\n",
       "      <td>0.0</td>\n",
       "      <td>0.0</td>\n",
       "      <td>1.0</td>\n",
       "      <td>0.0</td>\n",
       "      <td>0.0</td>\n",
       "      <td>0.0</td>\n",
       "      <td>0.0</td>\n",
       "      <td>...</td>\n",
       "      <td>0.0</td>\n",
       "      <td>0.0</td>\n",
       "      <td>1.0</td>\n",
       "      <td>0.0</td>\n",
       "      <td>0.0</td>\n",
       "      <td>0.0</td>\n",
       "      <td>0.0</td>\n",
       "      <td>0.0</td>\n",
       "      <td>2.0</td>\n",
       "      <td>2</td>\n",
       "    </tr>\n",
       "    <tr>\n",
       "      <th>2</th>\n",
       "      <td>26</td>\n",
       "      <td>8</td>\n",
       "      <td>Friday</td>\n",
       "      <td>0.0</td>\n",
       "      <td>0.0</td>\n",
       "      <td>1.0</td>\n",
       "      <td>0.0</td>\n",
       "      <td>0.0</td>\n",
       "      <td>0.0</td>\n",
       "      <td>0.0</td>\n",
       "      <td>...</td>\n",
       "      <td>0.0</td>\n",
       "      <td>0.0</td>\n",
       "      <td>0.0</td>\n",
       "      <td>0.0</td>\n",
       "      <td>0.0</td>\n",
       "      <td>0.0</td>\n",
       "      <td>0.0</td>\n",
       "      <td>0.0</td>\n",
       "      <td>27.0</td>\n",
       "      <td>6</td>\n",
       "    </tr>\n",
       "    <tr>\n",
       "      <th>3</th>\n",
       "      <td>8</td>\n",
       "      <td>9</td>\n",
       "      <td>Friday</td>\n",
       "      <td>0.0</td>\n",
       "      <td>0.0</td>\n",
       "      <td>1.0</td>\n",
       "      <td>0.0</td>\n",
       "      <td>0.0</td>\n",
       "      <td>0.0</td>\n",
       "      <td>0.0</td>\n",
       "      <td>...</td>\n",
       "      <td>0.0</td>\n",
       "      <td>0.0</td>\n",
       "      <td>0.0</td>\n",
       "      <td>0.0</td>\n",
       "      <td>0.0</td>\n",
       "      <td>0.0</td>\n",
       "      <td>0.0</td>\n",
       "      <td>0.0</td>\n",
       "      <td>3.0</td>\n",
       "      <td>2</td>\n",
       "    </tr>\n",
       "    <tr>\n",
       "      <th>4</th>\n",
       "      <td>8</td>\n",
       "      <td>10</td>\n",
       "      <td>Friday</td>\n",
       "      <td>0.0</td>\n",
       "      <td>0.0</td>\n",
       "      <td>1.0</td>\n",
       "      <td>0.0</td>\n",
       "      <td>0.0</td>\n",
       "      <td>0.0</td>\n",
       "      <td>0.0</td>\n",
       "      <td>...</td>\n",
       "      <td>0.0</td>\n",
       "      <td>0.0</td>\n",
       "      <td>0.0</td>\n",
       "      <td>0.0</td>\n",
       "      <td>0.0</td>\n",
       "      <td>0.0</td>\n",
       "      <td>0.0</td>\n",
       "      <td>0.0</td>\n",
       "      <td>3.0</td>\n",
       "      <td>2</td>\n",
       "    </tr>\n",
       "  </tbody>\n",
       "</table>\n",
       "<p>5 rows × 80 columns</p>\n",
       "</div>"
      ],
      "text/plain": [
       "   TripType  VisitNumber Weekday  Sunday  Saturday  Friday  Thursday  \\\n",
       "0       999            5  Friday     0.0       0.0     1.0       0.0   \n",
       "1        30            7  Friday     0.0       0.0     1.0       0.0   \n",
       "2        26            8  Friday     0.0       0.0     1.0       0.0   \n",
       "3         8            9  Friday     0.0       0.0     1.0       0.0   \n",
       "4         8           10  Friday     0.0       0.0     1.0       0.0   \n",
       "\n",
       "   Wednesday  Tuesday  Monday    ...      SERVICE DELI  SHEER HOSIERY  SHOES  \\\n",
       "0        0.0      0.0     0.0    ...               0.0            0.0    0.0   \n",
       "1        0.0      0.0     0.0    ...               0.0            0.0    1.0   \n",
       "2        0.0      0.0     0.0    ...               0.0            0.0    0.0   \n",
       "3        0.0      0.0     0.0    ...               0.0            0.0    0.0   \n",
       "4        0.0      0.0     0.0    ...               0.0            0.0    0.0   \n",
       "\n",
       "   SLEEPWEAR/FOUNDATIONS  SPORTING GOODS  SWIMWEAR/OUTERWEAR  TOYS  WIRELESS  \\\n",
       "0                    0.0             0.0                 0.0   0.0       0.0   \n",
       "1                    0.0             0.0                 0.0   0.0       0.0   \n",
       "2                    0.0             0.0                 0.0   0.0       0.0   \n",
       "3                    0.0             0.0                 0.0   0.0       0.0   \n",
       "4                    0.0             0.0                 0.0   0.0       0.0   \n",
       "\n",
       "   TotProdts  CatBought  \n",
       "0        0.0          0  \n",
       "1        2.0          2  \n",
       "2       27.0          6  \n",
       "3        3.0          2  \n",
       "4        3.0          2  \n",
       "\n",
       "[5 rows x 80 columns]"
      ]
     },
     "execution_count": 3,
     "metadata": {},
     "output_type": "execute_result"
    }
   ],
   "source": [
    "TripAnalysis.head()"
   ]
  },
  {
   "cell_type": "code",
   "execution_count": 4,
   "metadata": {},
   "outputs": [
    {
     "data": {
      "text/plain": [
       "array([999,  30,  26,   8,  35,  41,  21,   6,  42,   7,   9,  39,  25,\n",
       "        38,  15,  36,  20,  37,  32,  40,   5,   3,   4,  24,  33,  43,\n",
       "        31,  27,  34,  18,  29,  44,  19,  23,  22,  28,  14,  12])"
      ]
     },
     "execution_count": 4,
     "metadata": {},
     "output_type": "execute_result"
    }
   ],
   "source": [
    "TripAnalysis['TripType'].unique()"
   ]
  },
  {
   "cell_type": "code",
   "execution_count": 5,
   "metadata": {},
   "outputs": [
    {
     "data": {
      "text/plain": [
       "38"
      ]
     },
     "execution_count": 5,
     "metadata": {},
     "output_type": "execute_result"
    }
   ],
   "source": [
    "TripAnalysis['TripType'].nunique()"
   ]
  },
  {
   "cell_type": "code",
   "execution_count": 6,
   "metadata": {},
   "outputs": [
    {
     "data": {
      "text/plain": [
       "8      12161\n",
       "39      9896\n",
       "9       9464\n",
       "999     8286\n",
       "40      6130\n",
       "7       5752\n",
       "5       4593\n",
       "25      3698\n",
       "3       3643\n",
       "36      3005\n",
       "38      2912\n",
       "37      2788\n",
       "24      2609\n",
       "35      2030\n",
       "32      1984\n",
       "42      1858\n",
       "33      1315\n",
       "6       1277\n",
       "44      1187\n",
       "30      1081\n",
       "15       978\n",
       "22       928\n",
       "43       872\n",
       "27       785\n",
       "34       719\n",
       "21       641\n",
       "20       637\n",
       "31       594\n",
       "41       583\n",
       "18       549\n",
       "26       503\n",
       "28       492\n",
       "29       433\n",
       "19       375\n",
       "4        346\n",
       "12       269\n",
       "23       139\n",
       "14         4\n",
       "Name: TripType, dtype: int64"
      ]
     },
     "execution_count": 6,
     "metadata": {},
     "output_type": "execute_result"
    }
   ],
   "source": [
    "TripAnalysis['TripType'].value_counts()"
   ]
  },
  {
   "cell_type": "code",
   "execution_count": 262,
   "metadata": {},
   "outputs": [
    {
     "data": {
      "image/png": "[encoded data removed]",
      "text/plain": [
       "<matplotlib.figure.Figure at 0x129b59c88>"
      ]
     },
     "metadata": {},
     "output_type": "display_data"
    }
   ],
   "source": [
    "TripAnalysis['TripType'].value_counts().plot(kind='bar',figsize=(20,10), color = '#bd2309' )\n",
    "plt.title('Count of Trip Types',fontweight='bold',fontsize=15)\n",
    "plt.ylabel('Count',fontweight='bold')\n",
    "plt.xlabel(\"Trip Types\", fontweight='bold')\n",
    "plt.show()"
   ]
  },
  {
   "cell_type": "code",
   "execution_count": 8,
   "metadata": {},
   "outputs": [
    {
     "data": {
      "text/html": [
       "<div>\n",
       "<style>\n",
       "    .dataframe thead tr:only-child th {\n",
       "        text-align: right;\n",
       "    }\n",
       "\n",
       "    .dataframe thead th {\n",
       "        text-align: left;\n",
       "    }\n",
       "\n",
       "    .dataframe tbody tr th {\n",
       "        vertical-align: top;\n",
       "    }\n",
       "</style>\n",
       "<table border=\"1\" class=\"dataframe\">\n",
       "  <thead>\n",
       "    <tr style=\"text-align: right;\">\n",
       "      <th></th>\n",
       "      <th>TripType</th>\n",
       "      <th>VisitNumber</th>\n",
       "      <th>Weekday</th>\n",
       "      <th>Sunday</th>\n",
       "      <th>Saturday</th>\n",
       "      <th>Friday</th>\n",
       "      <th>Thursday</th>\n",
       "      <th>Wednesday</th>\n",
       "      <th>Tuesday</th>\n",
       "      <th>Monday</th>\n",
       "      <th>...</th>\n",
       "      <th>SERVICE DELI</th>\n",
       "      <th>SHEER HOSIERY</th>\n",
       "      <th>SHOES</th>\n",
       "      <th>SLEEPWEAR/FOUNDATIONS</th>\n",
       "      <th>SPORTING GOODS</th>\n",
       "      <th>SWIMWEAR/OUTERWEAR</th>\n",
       "      <th>TOYS</th>\n",
       "      <th>WIRELESS</th>\n",
       "      <th>TotProdts</th>\n",
       "      <th>CatBought</th>\n",
       "    </tr>\n",
       "  </thead>\n",
       "  <tbody>\n",
       "    <tr>\n",
       "      <th>0</th>\n",
       "      <td>999</td>\n",
       "      <td>5</td>\n",
       "      <td>Friday</td>\n",
       "      <td>0.0</td>\n",
       "      <td>0.0</td>\n",
       "      <td>1.0</td>\n",
       "      <td>0.0</td>\n",
       "      <td>0.0</td>\n",
       "      <td>0.0</td>\n",
       "      <td>0.0</td>\n",
       "      <td>...</td>\n",
       "      <td>0.0</td>\n",
       "      <td>0.0</td>\n",
       "      <td>0.0</td>\n",
       "      <td>0.0</td>\n",
       "      <td>0.0</td>\n",
       "      <td>0.0</td>\n",
       "      <td>0.0</td>\n",
       "      <td>0.0</td>\n",
       "      <td>0.0</td>\n",
       "      <td>0</td>\n",
       "    </tr>\n",
       "    <tr>\n",
       "      <th>1</th>\n",
       "      <td>30</td>\n",
       "      <td>7</td>\n",
       "      <td>Friday</td>\n",
       "      <td>0.0</td>\n",
       "      <td>0.0</td>\n",
       "      <td>1.0</td>\n",
       "      <td>0.0</td>\n",
       "      <td>0.0</td>\n",
       "      <td>0.0</td>\n",
       "      <td>0.0</td>\n",
       "      <td>...</td>\n",
       "      <td>0.0</td>\n",
       "      <td>0.0</td>\n",
       "      <td>1.0</td>\n",
       "      <td>0.0</td>\n",
       "      <td>0.0</td>\n",
       "      <td>0.0</td>\n",
       "      <td>0.0</td>\n",
       "      <td>0.0</td>\n",
       "      <td>2.0</td>\n",
       "      <td>2</td>\n",
       "    </tr>\n",
       "    <tr>\n",
       "      <th>2</th>\n",
       "      <td>26</td>\n",
       "      <td>8</td>\n",
       "      <td>Friday</td>\n",
       "      <td>0.0</td>\n",
       "      <td>0.0</td>\n",
       "      <td>1.0</td>\n",
       "      <td>0.0</td>\n",
       "      <td>0.0</td>\n",
       "      <td>0.0</td>\n",
       "      <td>0.0</td>\n",
       "      <td>...</td>\n",
       "      <td>0.0</td>\n",
       "      <td>0.0</td>\n",
       "      <td>0.0</td>\n",
       "      <td>0.0</td>\n",
       "      <td>0.0</td>\n",
       "      <td>0.0</td>\n",
       "      <td>0.0</td>\n",
       "      <td>0.0</td>\n",
       "      <td>27.0</td>\n",
       "      <td>6</td>\n",
       "    </tr>\n",
       "    <tr>\n",
       "      <th>3</th>\n",
       "      <td>8</td>\n",
       "      <td>9</td>\n",
       "      <td>Friday</td>\n",
       "      <td>0.0</td>\n",
       "      <td>0.0</td>\n",
       "      <td>1.0</td>\n",
       "      <td>0.0</td>\n",
       "      <td>0.0</td>\n",
       "      <td>0.0</td>\n",
       "      <td>0.0</td>\n",
       "      <td>...</td>\n",
       "      <td>0.0</td>\n",
       "      <td>0.0</td>\n",
       "      <td>0.0</td>\n",
       "      <td>0.0</td>\n",
       "      <td>0.0</td>\n",
       "      <td>0.0</td>\n",
       "      <td>0.0</td>\n",
       "      <td>0.0</td>\n",
       "      <td>3.0</td>\n",
       "      <td>2</td>\n",
       "    </tr>\n",
       "    <tr>\n",
       "      <th>4</th>\n",
       "      <td>8</td>\n",
       "      <td>10</td>\n",
       "      <td>Friday</td>\n",
       "      <td>0.0</td>\n",
       "      <td>0.0</td>\n",
       "      <td>1.0</td>\n",
       "      <td>0.0</td>\n",
       "      <td>0.0</td>\n",
       "      <td>0.0</td>\n",
       "      <td>0.0</td>\n",
       "      <td>...</td>\n",
       "      <td>0.0</td>\n",
       "      <td>0.0</td>\n",
       "      <td>0.0</td>\n",
       "      <td>0.0</td>\n",
       "      <td>0.0</td>\n",
       "      <td>0.0</td>\n",
       "      <td>0.0</td>\n",
       "      <td>0.0</td>\n",
       "      <td>3.0</td>\n",
       "      <td>2</td>\n",
       "    </tr>\n",
       "  </tbody>\n",
       "</table>\n",
       "<p>5 rows × 80 columns</p>\n",
       "</div>"
      ],
      "text/plain": [
       "   TripType  VisitNumber Weekday  Sunday  Saturday  Friday  Thursday  \\\n",
       "0       999            5  Friday     0.0       0.0     1.0       0.0   \n",
       "1        30            7  Friday     0.0       0.0     1.0       0.0   \n",
       "2        26            8  Friday     0.0       0.0     1.0       0.0   \n",
       "3         8            9  Friday     0.0       0.0     1.0       0.0   \n",
       "4         8           10  Friday     0.0       0.0     1.0       0.0   \n",
       "\n",
       "   Wednesday  Tuesday  Monday    ...      SERVICE DELI  SHEER HOSIERY  SHOES  \\\n",
       "0        0.0      0.0     0.0    ...               0.0            0.0    0.0   \n",
       "1        0.0      0.0     0.0    ...               0.0            0.0    1.0   \n",
       "2        0.0      0.0     0.0    ...               0.0            0.0    0.0   \n",
       "3        0.0      0.0     0.0    ...               0.0            0.0    0.0   \n",
       "4        0.0      0.0     0.0    ...               0.0            0.0    0.0   \n",
       "\n",
       "   SLEEPWEAR/FOUNDATIONS  SPORTING GOODS  SWIMWEAR/OUTERWEAR  TOYS  WIRELESS  \\\n",
       "0                    0.0             0.0                 0.0   0.0       0.0   \n",
       "1                    0.0             0.0                 0.0   0.0       0.0   \n",
       "2                    0.0             0.0                 0.0   0.0       0.0   \n",
       "3                    0.0             0.0                 0.0   0.0       0.0   \n",
       "4                    0.0             0.0                 0.0   0.0       0.0   \n",
       "\n",
       "   TotProdts  CatBought  \n",
       "0        0.0          0  \n",
       "1        2.0          2  \n",
       "2       27.0          6  \n",
       "3        3.0          2  \n",
       "4        3.0          2  \n",
       "\n",
       "[5 rows x 80 columns]"
      ]
     },
     "execution_count": 8,
     "metadata": {},
     "output_type": "execute_result"
    }
   ],
   "source": [
    "TripAnalysis.head()"
   ]
  },
  {
   "cell_type": "markdown",
   "metadata": {},
   "source": [
    "### Balance the classes"
   ]
  },
  {
   "cell_type": "markdown",
   "metadata": {},
   "source": [
    "#### Drop classes with sample smaller than 500"
   ]
  },
  {
   "cell_type": "code",
   "execution_count": 10,
   "metadata": {},
   "outputs": [
    {
     "data": {
      "text/plain": [
       "Index(['TripType', 'VisitNumber', 'Weekday', 'Sunday', 'Saturday', 'Friday',\n",
       "       'Thursday', 'Wednesday', 'Tuesday', 'Monday', '1-HR PHOTO',\n",
       "       'ACCESSORIES', 'AUTOMOTIVE', 'BAKERY', 'BATH AND SHOWER', 'BEAUTY',\n",
       "       'BEDDING', 'BOOKS AND MAGAZINES', 'BOYS WEAR', 'BRAS & SHAPEWEAR',\n",
       "       'CAMERAS AND SUPPLIES', 'CANDY, TOBACCO, COOKIES', 'CELEBRATION',\n",
       "       'COMM BREAD', 'CONCEPT STORES', 'COOK AND DINE', 'DAIRY', 'DSD GROCERY',\n",
       "       'ELECTRONICS', 'FABRICS AND CRAFTS', 'FINANCIAL SERVICES',\n",
       "       'FROZEN FOODS', 'FURNITURE', 'GIRLS WEAR, 4-6X  AND 7-14',\n",
       "       'GROCERY DRY GOODS', 'HARDWARE', 'HEALTH AND BEAUTY AIDS', 'HOME DECOR',\n",
       "       'HOME MANAGEMENT', 'HORTICULTURE AND ACCESS',\n",
       "       'HOUSEHOLD CHEMICALS/SUPP', 'HOUSEHOLD PAPER GOODS',\n",
       "       'IMPULSE MERCHANDISE', 'INFANT APPAREL', 'INFANT CONSUMABLE HARDLINES',\n",
       "       'JEWELRY AND SUNGLASSES', 'LADIES SOCKS', 'LADIESWEAR',\n",
       "       'LARGE HOUSEHOLD GOODS', 'LAWN AND GARDEN', 'LIQUOR,WINE,BEER',\n",
       "       'MEAT - FRESH & FROZEN', 'MEDIA AND GAMING', 'MENS WEAR', 'MENSWEAR',\n",
       "       'OFFICE SUPPLIES', 'OPTICAL - FRAMES', 'OPTICAL - LENSES',\n",
       "       'OTHER DEPARTMENTS', 'PAINT AND ACCESSORIES', 'PERSONAL CARE',\n",
       "       'PETS AND SUPPLIES', 'PHARMACY OTC', 'PHARMACY RX',\n",
       "       'PLAYERS AND ELECTRONICS', 'PLUS AND MATERNITY', 'PRE PACKED DELI',\n",
       "       'PRODUCE', 'SEAFOOD', 'SEASONAL', 'SERVICE DELI', 'SHEER HOSIERY',\n",
       "       'SHOES', 'SLEEPWEAR/FOUNDATIONS', 'SPORTING GOODS',\n",
       "       'SWIMWEAR/OUTERWEAR', 'TOYS', 'WIRELESS', 'TotProdts', 'CatBought'],\n",
       "      dtype='object')"
      ]
     },
     "execution_count": 10,
     "metadata": {},
     "output_type": "execute_result"
    }
   ],
   "source": [
    "TripAnalysis.columns"
   ]
  },
  {
   "cell_type": "code",
   "execution_count": 14,
   "metadata": {
    "collapsed": true
   },
   "outputs": [],
   "source": [
    "TripBal= TripAnalysis.filter(['TripType', 'VisitNumber', 'Weekday', 'Sunday', 'Saturday', 'Friday',\n",
    "       'Thursday', 'Wednesday', 'Tuesday', 'Monday', '1-HR PHOTO',\n",
    "       'ACCESSORIES', 'AUTOMOTIVE', 'BAKERY', 'BATH AND SHOWER', 'BEAUTY',\n",
    "       'BEDDING', 'BOOKS AND MAGAZINES', 'BOYS WEAR', 'BRAS & SHAPEWEAR',\n",
    "       'CAMERAS AND SUPPLIES', 'CANDY, TOBACCO, COOKIES', 'CELEBRATION',\n",
    "       'COMM BREAD', 'CONCEPT STORES', 'COOK AND DINE', 'DAIRY', 'DSD GROCERY',\n",
    "       'ELECTRONICS', 'FABRICS AND CRAFTS', 'FINANCIAL SERVICES',\n",
    "       'FROZEN FOODS', 'FURNITURE', 'GIRLS WEAR, 4-6X  AND 7-14',\n",
    "       'GROCERY DRY GOODS', 'HARDWARE', 'HEALTH AND BEAUTY AIDS', 'HOME DECOR',\n",
    "       'HOME MANAGEMENT', 'HORTICULTURE AND ACCESS',\n",
    "       'HOUSEHOLD CHEMICALS/SUPP', 'HOUSEHOLD PAPER GOODS',\n",
    "       'IMPULSE MERCHANDISE', 'INFANT APPAREL', 'INFANT CONSUMABLE HARDLINES',\n",
    "       'JEWELRY AND SUNGLASSES', 'LADIES SOCKS', 'LADIESWEAR',\n",
    "       'LARGE HOUSEHOLD GOODS', 'LAWN AND GARDEN', 'LIQUOR,WINE,BEER',\n",
    "       'MEAT - FRESH & FROZEN', 'MEDIA AND GAMING', 'MENS WEAR', 'MENSWEAR',\n",
    "       'OFFICE SUPPLIES', 'OPTICAL - FRAMES', 'OPTICAL - LENSES',\n",
    "       'OTHER DEPARTMENTS', 'PAINT AND ACCESSORIES', 'PERSONAL CARE',\n",
    "       'PETS AND SUPPLIES', 'PHARMACY OTC', 'PHARMACY RX',\n",
    "       'PLAYERS AND ELECTRONICS', 'PLUS AND MATERNITY', 'PRE PACKED DELI',\n",
    "       'PRODUCE', 'SEAFOOD', 'SEASONAL', 'SERVICE DELI', 'SHEER HOSIERY',\n",
    "       'SHOES', 'SLEEPWEAR/FOUNDATIONS', 'SPORTING GOODS',\n",
    "       'SWIMWEAR/OUTERWEAR', 'TOYS', 'WIRELESS', 'TotProdts', 'CatBought'])"
   ]
  },
  {
   "cell_type": "code",
   "execution_count": 15,
   "metadata": {
    "collapsed": true
   },
   "outputs": [],
   "source": [
    "TripBal = TripBal[TripBal.TripType != 28]\n",
    "TripBal = TripBal[TripBal.TripType != 29]\n",
    "TripBal = TripBal[TripBal.TripType != 19]\n",
    "TripBal = TripBal[TripBal.TripType != 4]\n",
    "TripBal = TripBal[TripBal.TripType != 12]\n",
    "TripBal = TripBal[TripBal.TripType != 23]\n",
    "TripBal = TripBal[TripBal.TripType != 14] "
   ]
  },
  {
   "cell_type": "code",
   "execution_count": 16,
   "metadata": {
    "collapsed": true
   },
   "outputs": [],
   "source": [
    "from sklearn.utils import resample"
   ]
  },
  {
   "cell_type": "code",
   "execution_count": 78,
   "metadata": {},
   "outputs": [
    {
     "data": {
      "text/plain": [
       "TripType                     int64\n",
       "VisitNumber                  int64\n",
       "Weekday                     object\n",
       "Sunday                     float64\n",
       "Saturday                   float64\n",
       "Friday                     float64\n",
       "Thursday                   float64\n",
       "Wednesday                  float64\n",
       "Tuesday                    float64\n",
       "Monday                     float64\n",
       "1-HR PHOTO                 float64\n",
       "ACCESSORIES                float64\n",
       "AUTOMOTIVE                 float64\n",
       "BAKERY                     float64\n",
       "BATH AND SHOWER            float64\n",
       "BEAUTY                     float64\n",
       "BEDDING                    float64\n",
       "BOOKS AND MAGAZINES        float64\n",
       "BOYS WEAR                  float64\n",
       "BRAS & SHAPEWEAR           float64\n",
       "CAMERAS AND SUPPLIES       float64\n",
       "CANDY, TOBACCO, COOKIES    float64\n",
       "CELEBRATION                float64\n",
       "COMM BREAD                 float64\n",
       "CONCEPT STORES             float64\n",
       "COOK AND DINE              float64\n",
       "DAIRY                      float64\n",
       "DSD GROCERY                float64\n",
       "ELECTRONICS                float64\n",
       "FABRICS AND CRAFTS         float64\n",
       "                            ...   \n",
       "LIQUOR,WINE,BEER           float64\n",
       "MEAT - FRESH & FROZEN      float64\n",
       "MEDIA AND GAMING           float64\n",
       "MENS WEAR                  float64\n",
       "MENSWEAR                   float64\n",
       "OFFICE SUPPLIES            float64\n",
       "OPTICAL - FRAMES           float64\n",
       "OPTICAL - LENSES           float64\n",
       "OTHER DEPARTMENTS          float64\n",
       "PAINT AND ACCESSORIES      float64\n",
       "PERSONAL CARE              float64\n",
       "PETS AND SUPPLIES          float64\n",
       "PHARMACY OTC               float64\n",
       "PHARMACY RX                float64\n",
       "PLAYERS AND ELECTRONICS    float64\n",
       "PLUS AND MATERNITY         float64\n",
       "PRE PACKED DELI            float64\n",
       "PRODUCE                    float64\n",
       "SEAFOOD                    float64\n",
       "SEASONAL                   float64\n",
       "SERVICE DELI               float64\n",
       "SHEER HOSIERY              float64\n",
       "SHOES                      float64\n",
       "SLEEPWEAR/FOUNDATIONS      float64\n",
       "SPORTING GOODS             float64\n",
       "SWIMWEAR/OUTERWEAR         float64\n",
       "TOYS                       float64\n",
       "WIRELESS                   float64\n",
       "TotProdts                  float64\n",
       "CatBought                    int64\n",
       "Length: 80, dtype: object"
      ]
     },
     "execution_count": 78,
     "metadata": {},
     "output_type": "execute_result"
    }
   ],
   "source": [
    "TripBal.dtypes"
   ]
  },
  {
   "cell_type": "code",
   "execution_count": 17,
   "metadata": {},
   "outputs": [
    {
     "data": {
      "text/plain": [
       "8      12161\n",
       "39      9896\n",
       "9       9464\n",
       "999     8286\n",
       "40      6130\n",
       "7       5752\n",
       "5       4593\n",
       "25      3698\n",
       "3       3643\n",
       "36      3005\n",
       "38      2912\n",
       "37      2788\n",
       "24      2609\n",
       "35      2030\n",
       "32      1984\n",
       "42      1858\n",
       "33      1315\n",
       "6       1277\n",
       "44      1187\n",
       "30      1081\n",
       "15       978\n",
       "22       928\n",
       "43       872\n",
       "27       785\n",
       "34       719\n",
       "21       641\n",
       "20       637\n",
       "31       594\n",
       "41       583\n",
       "18       549\n",
       "26       503\n",
       "Name: TripType, dtype: int64"
      ]
     },
     "execution_count": 17,
     "metadata": {},
     "output_type": "execute_result"
    }
   ],
   "source": [
    "TripBal.TripType.value_counts()"
   ]
  },
  {
   "cell_type": "markdown",
   "metadata": {},
   "source": [
    "### Lets take median sample size of the classes/labels --- Use this value to upsample/downsample ~ 1800\n",
    "\n"
   ]
  },
  {
   "cell_type": "markdown",
   "metadata": {},
   "source": [
    "#### Creating an empty DF with only 2rows of data....this DF will be concatenated with balanced classes from each class"
   ]
  },
  {
   "cell_type": "code",
   "execution_count": 87,
   "metadata": {},
   "outputs": [],
   "source": [
    "Df_Bal = TripBal.iloc[:2,:]"
   ]
  },
  {
   "cell_type": "code",
   "execution_count": 88,
   "metadata": {},
   "outputs": [
    {
     "data": {
      "text/html": [
       "<div>\n",
       "<style>\n",
       "    .dataframe thead tr:only-child th {\n",
       "        text-align: right;\n",
       "    }\n",
       "\n",
       "    .dataframe thead th {\n",
       "        text-align: left;\n",
       "    }\n",
       "\n",
       "    .dataframe tbody tr th {\n",
       "        vertical-align: top;\n",
       "    }\n",
       "</style>\n",
       "<table border=\"1\" class=\"dataframe\">\n",
       "  <thead>\n",
       "    <tr style=\"text-align: right;\">\n",
       "      <th></th>\n",
       "      <th>TripType</th>\n",
       "      <th>VisitNumber</th>\n",
       "      <th>Weekday</th>\n",
       "      <th>Sunday</th>\n",
       "      <th>Saturday</th>\n",
       "      <th>Friday</th>\n",
       "      <th>Thursday</th>\n",
       "      <th>Wednesday</th>\n",
       "      <th>Tuesday</th>\n",
       "      <th>Monday</th>\n",
       "      <th>...</th>\n",
       "      <th>SERVICE DELI</th>\n",
       "      <th>SHEER HOSIERY</th>\n",
       "      <th>SHOES</th>\n",
       "      <th>SLEEPWEAR/FOUNDATIONS</th>\n",
       "      <th>SPORTING GOODS</th>\n",
       "      <th>SWIMWEAR/OUTERWEAR</th>\n",
       "      <th>TOYS</th>\n",
       "      <th>WIRELESS</th>\n",
       "      <th>TotProdts</th>\n",
       "      <th>CatBought</th>\n",
       "    </tr>\n",
       "  </thead>\n",
       "  <tbody>\n",
       "    <tr>\n",
       "      <th>0</th>\n",
       "      <td>999</td>\n",
       "      <td>5</td>\n",
       "      <td>Friday</td>\n",
       "      <td>0.0</td>\n",
       "      <td>0.0</td>\n",
       "      <td>1.0</td>\n",
       "      <td>0.0</td>\n",
       "      <td>0.0</td>\n",
       "      <td>0.0</td>\n",
       "      <td>0.0</td>\n",
       "      <td>...</td>\n",
       "      <td>0.0</td>\n",
       "      <td>0.0</td>\n",
       "      <td>0.0</td>\n",
       "      <td>0.0</td>\n",
       "      <td>0.0</td>\n",
       "      <td>0.0</td>\n",
       "      <td>0.0</td>\n",
       "      <td>0.0</td>\n",
       "      <td>0.0</td>\n",
       "      <td>0</td>\n",
       "    </tr>\n",
       "    <tr>\n",
       "      <th>1</th>\n",
       "      <td>30</td>\n",
       "      <td>7</td>\n",
       "      <td>Friday</td>\n",
       "      <td>0.0</td>\n",
       "      <td>0.0</td>\n",
       "      <td>1.0</td>\n",
       "      <td>0.0</td>\n",
       "      <td>0.0</td>\n",
       "      <td>0.0</td>\n",
       "      <td>0.0</td>\n",
       "      <td>...</td>\n",
       "      <td>0.0</td>\n",
       "      <td>0.0</td>\n",
       "      <td>1.0</td>\n",
       "      <td>0.0</td>\n",
       "      <td>0.0</td>\n",
       "      <td>0.0</td>\n",
       "      <td>0.0</td>\n",
       "      <td>0.0</td>\n",
       "      <td>2.0</td>\n",
       "      <td>2</td>\n",
       "    </tr>\n",
       "  </tbody>\n",
       "</table>\n",
       "<p>2 rows × 80 columns</p>\n",
       "</div>"
      ],
      "text/plain": [
       "   TripType  VisitNumber Weekday  Sunday  Saturday  Friday  Thursday  \\\n",
       "0       999            5  Friday     0.0       0.0     1.0       0.0   \n",
       "1        30            7  Friday     0.0       0.0     1.0       0.0   \n",
       "\n",
       "   Wednesday  Tuesday  Monday    ...      SERVICE DELI  SHEER HOSIERY  SHOES  \\\n",
       "0        0.0      0.0     0.0    ...               0.0            0.0    0.0   \n",
       "1        0.0      0.0     0.0    ...               0.0            0.0    1.0   \n",
       "\n",
       "   SLEEPWEAR/FOUNDATIONS  SPORTING GOODS  SWIMWEAR/OUTERWEAR  TOYS  WIRELESS  \\\n",
       "0                    0.0             0.0                 0.0   0.0       0.0   \n",
       "1                    0.0             0.0                 0.0   0.0       0.0   \n",
       "\n",
       "   TotProdts  CatBought  \n",
       "0        0.0          0  \n",
       "1        2.0          2  \n",
       "\n",
       "[2 rows x 80 columns]"
      ]
     },
     "execution_count": 88,
     "metadata": {},
     "output_type": "execute_result"
    }
   ],
   "source": [
    "Df_Bal.head()"
   ]
  },
  {
   "cell_type": "code",
   "execution_count": 91,
   "metadata": {
    "collapsed": true
   },
   "outputs": [],
   "source": [
    "# if sample less than 1800  then upsample with replacement else downnsample without replacement\n",
    "\n",
    "for i in listTripType:\n",
    "    if (TripBal.loc[(TripBal['TripType']== i)].TripType.count()) > 1800:\n",
    "        DF_i = resample(TripBal.loc[(TripBal['TripType']== i)],replace=False, n_samples=1800, random_state=42)\n",
    "    else:\n",
    "        DF_i = resample(TripBal.loc[(TripBal['TripType']== i)],replace=True, n_samples=1800, random_state=42)\n",
    "    Df_Bal = pd.concat([Df_Bal, DF_i])\n"
   ]
  },
  {
   "cell_type": "code",
   "execution_count": 92,
   "metadata": {
    "collapsed": true
   },
   "outputs": [],
   "source": [
    "Df_Bal.reset_index(drop=True, inplace=True)"
   ]
  },
  {
   "cell_type": "code",
   "execution_count": 93,
   "metadata": {},
   "outputs": [
    {
     "data": {
      "text/html": [
       "<div>\n",
       "<style>\n",
       "    .dataframe thead tr:only-child th {\n",
       "        text-align: right;\n",
       "    }\n",
       "\n",
       "    .dataframe thead th {\n",
       "        text-align: left;\n",
       "    }\n",
       "\n",
       "    .dataframe tbody tr th {\n",
       "        vertical-align: top;\n",
       "    }\n",
       "</style>\n",
       "<table border=\"1\" class=\"dataframe\">\n",
       "  <thead>\n",
       "    <tr style=\"text-align: right;\">\n",
       "      <th></th>\n",
       "      <th>TripType</th>\n",
       "      <th>VisitNumber</th>\n",
       "      <th>Weekday</th>\n",
       "      <th>Sunday</th>\n",
       "      <th>Saturday</th>\n",
       "      <th>Friday</th>\n",
       "      <th>Thursday</th>\n",
       "      <th>Wednesday</th>\n",
       "      <th>Tuesday</th>\n",
       "      <th>Monday</th>\n",
       "      <th>...</th>\n",
       "      <th>SERVICE DELI</th>\n",
       "      <th>SHEER HOSIERY</th>\n",
       "      <th>SHOES</th>\n",
       "      <th>SLEEPWEAR/FOUNDATIONS</th>\n",
       "      <th>SPORTING GOODS</th>\n",
       "      <th>SWIMWEAR/OUTERWEAR</th>\n",
       "      <th>TOYS</th>\n",
       "      <th>WIRELESS</th>\n",
       "      <th>TotProdts</th>\n",
       "      <th>CatBought</th>\n",
       "    </tr>\n",
       "  </thead>\n",
       "  <tbody>\n",
       "    <tr>\n",
       "      <th>0</th>\n",
       "      <td>999</td>\n",
       "      <td>5</td>\n",
       "      <td>Friday</td>\n",
       "      <td>0.0</td>\n",
       "      <td>0.0</td>\n",
       "      <td>1.0</td>\n",
       "      <td>0.0</td>\n",
       "      <td>0.0</td>\n",
       "      <td>0.0</td>\n",
       "      <td>0.0</td>\n",
       "      <td>...</td>\n",
       "      <td>0.0</td>\n",
       "      <td>0.0</td>\n",
       "      <td>0.0</td>\n",
       "      <td>0.0</td>\n",
       "      <td>0.0</td>\n",
       "      <td>0.0</td>\n",
       "      <td>0.0</td>\n",
       "      <td>0.0</td>\n",
       "      <td>0.0</td>\n",
       "      <td>0</td>\n",
       "    </tr>\n",
       "    <tr>\n",
       "      <th>1</th>\n",
       "      <td>30</td>\n",
       "      <td>7</td>\n",
       "      <td>Friday</td>\n",
       "      <td>0.0</td>\n",
       "      <td>0.0</td>\n",
       "      <td>1.0</td>\n",
       "      <td>0.0</td>\n",
       "      <td>0.0</td>\n",
       "      <td>0.0</td>\n",
       "      <td>0.0</td>\n",
       "      <td>...</td>\n",
       "      <td>0.0</td>\n",
       "      <td>0.0</td>\n",
       "      <td>1.0</td>\n",
       "      <td>0.0</td>\n",
       "      <td>0.0</td>\n",
       "      <td>0.0</td>\n",
       "      <td>0.0</td>\n",
       "      <td>0.0</td>\n",
       "      <td>2.0</td>\n",
       "      <td>2</td>\n",
       "    </tr>\n",
       "    <tr>\n",
       "      <th>2</th>\n",
       "      <td>999</td>\n",
       "      <td>140278</td>\n",
       "      <td>Saturday</td>\n",
       "      <td>0.0</td>\n",
       "      <td>1.0</td>\n",
       "      <td>0.0</td>\n",
       "      <td>0.0</td>\n",
       "      <td>0.0</td>\n",
       "      <td>0.0</td>\n",
       "      <td>0.0</td>\n",
       "      <td>...</td>\n",
       "      <td>0.0</td>\n",
       "      <td>0.0</td>\n",
       "      <td>0.0</td>\n",
       "      <td>0.0</td>\n",
       "      <td>0.0</td>\n",
       "      <td>0.0</td>\n",
       "      <td>0.0</td>\n",
       "      <td>0.0</td>\n",
       "      <td>0.0</td>\n",
       "      <td>0</td>\n",
       "    </tr>\n",
       "    <tr>\n",
       "      <th>3</th>\n",
       "      <td>999</td>\n",
       "      <td>19528</td>\n",
       "      <td>Sunday</td>\n",
       "      <td>1.0</td>\n",
       "      <td>0.0</td>\n",
       "      <td>0.0</td>\n",
       "      <td>0.0</td>\n",
       "      <td>0.0</td>\n",
       "      <td>0.0</td>\n",
       "      <td>0.0</td>\n",
       "      <td>...</td>\n",
       "      <td>0.0</td>\n",
       "      <td>0.0</td>\n",
       "      <td>0.0</td>\n",
       "      <td>0.0</td>\n",
       "      <td>0.0</td>\n",
       "      <td>0.0</td>\n",
       "      <td>0.0</td>\n",
       "      <td>0.0</td>\n",
       "      <td>4.0</td>\n",
       "      <td>3</td>\n",
       "    </tr>\n",
       "    <tr>\n",
       "      <th>4</th>\n",
       "      <td>999</td>\n",
       "      <td>102008</td>\n",
       "      <td>Sunday</td>\n",
       "      <td>1.0</td>\n",
       "      <td>0.0</td>\n",
       "      <td>0.0</td>\n",
       "      <td>0.0</td>\n",
       "      <td>0.0</td>\n",
       "      <td>0.0</td>\n",
       "      <td>0.0</td>\n",
       "      <td>...</td>\n",
       "      <td>0.0</td>\n",
       "      <td>0.0</td>\n",
       "      <td>0.0</td>\n",
       "      <td>0.0</td>\n",
       "      <td>0.0</td>\n",
       "      <td>0.0</td>\n",
       "      <td>0.0</td>\n",
       "      <td>0.0</td>\n",
       "      <td>0.0</td>\n",
       "      <td>0</td>\n",
       "    </tr>\n",
       "  </tbody>\n",
       "</table>\n",
       "<p>5 rows × 80 columns</p>\n",
       "</div>"
      ],
      "text/plain": [
       "   TripType  VisitNumber   Weekday  Sunday  Saturday  Friday  Thursday  \\\n",
       "0       999            5    Friday     0.0       0.0     1.0       0.0   \n",
       "1        30            7    Friday     0.0       0.0     1.0       0.0   \n",
       "2       999       140278  Saturday     0.0       1.0     0.0       0.0   \n",
       "3       999        19528    Sunday     1.0       0.0     0.0       0.0   \n",
       "4       999       102008    Sunday     1.0       0.0     0.0       0.0   \n",
       "\n",
       "   Wednesday  Tuesday  Monday    ...      SERVICE DELI  SHEER HOSIERY  SHOES  \\\n",
       "0        0.0      0.0     0.0    ...               0.0            0.0    0.0   \n",
       "1        0.0      0.0     0.0    ...               0.0            0.0    1.0   \n",
       "2        0.0      0.0     0.0    ...               0.0            0.0    0.0   \n",
       "3        0.0      0.0     0.0    ...               0.0            0.0    0.0   \n",
       "4        0.0      0.0     0.0    ...               0.0            0.0    0.0   \n",
       "\n",
       "   SLEEPWEAR/FOUNDATIONS  SPORTING GOODS  SWIMWEAR/OUTERWEAR  TOYS  WIRELESS  \\\n",
       "0                    0.0             0.0                 0.0   0.0       0.0   \n",
       "1                    0.0             0.0                 0.0   0.0       0.0   \n",
       "2                    0.0             0.0                 0.0   0.0       0.0   \n",
       "3                    0.0             0.0                 0.0   0.0       0.0   \n",
       "4                    0.0             0.0                 0.0   0.0       0.0   \n",
       "\n",
       "   TotProdts  CatBought  \n",
       "0        0.0          0  \n",
       "1        2.0          2  \n",
       "2        0.0          0  \n",
       "3        4.0          3  \n",
       "4        0.0          0  \n",
       "\n",
       "[5 rows x 80 columns]"
      ]
     },
     "execution_count": 93,
     "metadata": {},
     "output_type": "execute_result"
    }
   ],
   "source": [
    "Df_Bal.head()"
   ]
  },
  {
   "cell_type": "code",
   "execution_count": 100,
   "metadata": {},
   "outputs": [
    {
     "data": {
      "text/plain": [
       "TripType                     int64\n",
       "VisitNumber                  int64\n",
       "Weekday                     object\n",
       "Sunday                     float64\n",
       "Saturday                   float64\n",
       "Friday                     float64\n",
       "Thursday                   float64\n",
       "Wednesday                  float64\n",
       "Tuesday                    float64\n",
       "Monday                     float64\n",
       "1-HR PHOTO                 float64\n",
       "ACCESSORIES                float64\n",
       "AUTOMOTIVE                 float64\n",
       "BAKERY                     float64\n",
       "BATH AND SHOWER            float64\n",
       "BEAUTY                     float64\n",
       "BEDDING                    float64\n",
       "BOOKS AND MAGAZINES        float64\n",
       "BOYS WEAR                  float64\n",
       "BRAS & SHAPEWEAR           float64\n",
       "CAMERAS AND SUPPLIES       float64\n",
       "CANDY, TOBACCO, COOKIES    float64\n",
       "CELEBRATION                float64\n",
       "COMM BREAD                 float64\n",
       "CONCEPT STORES             float64\n",
       "COOK AND DINE              float64\n",
       "DAIRY                      float64\n",
       "DSD GROCERY                float64\n",
       "ELECTRONICS                float64\n",
       "FABRICS AND CRAFTS         float64\n",
       "                            ...   \n",
       "LIQUOR,WINE,BEER           float64\n",
       "MEAT - FRESH & FROZEN      float64\n",
       "MEDIA AND GAMING           float64\n",
       "MENS WEAR                  float64\n",
       "MENSWEAR                   float64\n",
       "OFFICE SUPPLIES            float64\n",
       "OPTICAL - FRAMES           float64\n",
       "OPTICAL - LENSES           float64\n",
       "OTHER DEPARTMENTS          float64\n",
       "PAINT AND ACCESSORIES      float64\n",
       "PERSONAL CARE              float64\n",
       "PETS AND SUPPLIES          float64\n",
       "PHARMACY OTC               float64\n",
       "PHARMACY RX                float64\n",
       "PLAYERS AND ELECTRONICS    float64\n",
       "PLUS AND MATERNITY         float64\n",
       "PRE PACKED DELI            float64\n",
       "PRODUCE                    float64\n",
       "SEAFOOD                    float64\n",
       "SEASONAL                   float64\n",
       "SERVICE DELI               float64\n",
       "SHEER HOSIERY              float64\n",
       "SHOES                      float64\n",
       "SLEEPWEAR/FOUNDATIONS      float64\n",
       "SPORTING GOODS             float64\n",
       "SWIMWEAR/OUTERWEAR         float64\n",
       "TOYS                       float64\n",
       "WIRELESS                   float64\n",
       "TotProdts                  float64\n",
       "CatBought                    int64\n",
       "Length: 80, dtype: object"
      ]
     },
     "execution_count": 100,
     "metadata": {},
     "output_type": "execute_result"
    }
   ],
   "source": [
    "Df_Bal.dtypes"
   ]
  },
  {
   "cell_type": "code",
   "execution_count": 101,
   "metadata": {},
   "outputs": [
    {
     "data": {
      "text/plain": [
       "999    1801\n",
       "30     1801\n",
       "31     1800\n",
       "40     1800\n",
       "33     1800\n",
       "34     1800\n",
       "3      1800\n",
       "35     1800\n",
       "36     1800\n",
       "5      1800\n",
       "37     1800\n",
       "6      1800\n",
       "38     1800\n",
       "7      1800\n",
       "39     1800\n",
       "8      1800\n",
       "9      1800\n",
       "41     1800\n",
       "42     1800\n",
       "43     1800\n",
       "44     1800\n",
       "15     1800\n",
       "18     1800\n",
       "20     1800\n",
       "21     1800\n",
       "22     1800\n",
       "24     1800\n",
       "25     1800\n",
       "26     1800\n",
       "27     1800\n",
       "32     1800\n",
       "Name: TripType, dtype: int64"
      ]
     },
     "execution_count": 101,
     "metadata": {},
     "output_type": "execute_result"
    }
   ],
   "source": [
    "Df_Bal.TripType.value_counts()"
   ]
  },
  {
   "cell_type": "code",
   "execution_count": 116,
   "metadata": {
    "collapsed": true
   },
   "outputs": [],
   "source": [
    "# Deleting the 1st 2 extra rows that were used to create the DF initially\n",
    "Df_Bal =Df_Bal.iloc[2:,]"
   ]
  },
  {
   "cell_type": "code",
   "execution_count": 117,
   "metadata": {},
   "outputs": [
    {
     "data": {
      "text/plain": [
       "31     1800\n",
       "40     1800\n",
       "33     1800\n",
       "34     1800\n",
       "3      1800\n",
       "35     1800\n",
       "36     1800\n",
       "5      1800\n",
       "37     1800\n",
       "6      1800\n",
       "38     1800\n",
       "7      1800\n",
       "39     1800\n",
       "999    1800\n",
       "8      1800\n",
       "9      1800\n",
       "30     1800\n",
       "41     1800\n",
       "42     1800\n",
       "43     1800\n",
       "44     1800\n",
       "15     1800\n",
       "18     1800\n",
       "20     1800\n",
       "21     1800\n",
       "22     1800\n",
       "24     1800\n",
       "25     1800\n",
       "26     1800\n",
       "27     1800\n",
       "32     1800\n",
       "Name: TripType, dtype: int64"
      ]
     },
     "execution_count": 117,
     "metadata": {},
     "output_type": "execute_result"
    }
   ],
   "source": [
    "Df_Bal.TripType.value_counts()"
   ]
  },
  {
   "cell_type": "code",
   "execution_count": 102,
   "metadata": {
    "collapsed": true
   },
   "outputs": [],
   "source": [
    "with open('../Data/SmallBalDf.pkl', 'wb') as picklefile2:\n",
    "    pickle.dump(Df_Bal, picklefile2)"
   ]
  },
  {
   "cell_type": "code",
   "execution_count": 103,
   "metadata": {},
   "outputs": [
    {
     "name": "stdout",
     "output_type": "stream",
     "text": [
      "BalncedDf.pkl         TripDf.pkl            test.csv\r\n",
      "Cat Analysis.xlsx     TripFeatureDf.pkl     train.csv\r\n",
      "FullTripDf.pkl        TripFullDf.pkl        ~$Cat Analysis.xlsx\r\n",
      "SmallBalDf.pkl        sample_submission.csv\r\n"
     ]
    }
   ],
   "source": [
    "!ls ../Data"
   ]
  },
  {
   "cell_type": "code",
   "execution_count": 104,
   "metadata": {
    "collapsed": true
   },
   "outputs": [],
   "source": [
    "with open(\"../Data/SmallBalDf.pkl\", 'rb') as picklefile3: \n",
    "    TripSmallBal= pickle.load(picklefile3)"
   ]
  },
  {
   "cell_type": "code",
   "execution_count": 105,
   "metadata": {},
   "outputs": [
    {
     "data": {
      "text/html": [
       "<div>\n",
       "<style>\n",
       "    .dataframe thead tr:only-child th {\n",
       "        text-align: right;\n",
       "    }\n",
       "\n",
       "    .dataframe thead th {\n",
       "        text-align: left;\n",
       "    }\n",
       "\n",
       "    .dataframe tbody tr th {\n",
       "        vertical-align: top;\n",
       "    }\n",
       "</style>\n",
       "<table border=\"1\" class=\"dataframe\">\n",
       "  <thead>\n",
       "    <tr style=\"text-align: right;\">\n",
       "      <th></th>\n",
       "      <th>TripType</th>\n",
       "      <th>VisitNumber</th>\n",
       "      <th>Weekday</th>\n",
       "      <th>Sunday</th>\n",
       "      <th>Saturday</th>\n",
       "      <th>Friday</th>\n",
       "      <th>Thursday</th>\n",
       "      <th>Wednesday</th>\n",
       "      <th>Tuesday</th>\n",
       "      <th>Monday</th>\n",
       "      <th>...</th>\n",
       "      <th>SERVICE DELI</th>\n",
       "      <th>SHEER HOSIERY</th>\n",
       "      <th>SHOES</th>\n",
       "      <th>SLEEPWEAR/FOUNDATIONS</th>\n",
       "      <th>SPORTING GOODS</th>\n",
       "      <th>SWIMWEAR/OUTERWEAR</th>\n",
       "      <th>TOYS</th>\n",
       "      <th>WIRELESS</th>\n",
       "      <th>TotProdts</th>\n",
       "      <th>CatBought</th>\n",
       "    </tr>\n",
       "  </thead>\n",
       "  <tbody>\n",
       "    <tr>\n",
       "      <th>0</th>\n",
       "      <td>999</td>\n",
       "      <td>5</td>\n",
       "      <td>Friday</td>\n",
       "      <td>0.0</td>\n",
       "      <td>0.0</td>\n",
       "      <td>1.0</td>\n",
       "      <td>0.0</td>\n",
       "      <td>0.0</td>\n",
       "      <td>0.0</td>\n",
       "      <td>0.0</td>\n",
       "      <td>...</td>\n",
       "      <td>0.0</td>\n",
       "      <td>0.0</td>\n",
       "      <td>0.0</td>\n",
       "      <td>0.0</td>\n",
       "      <td>0.0</td>\n",
       "      <td>0.0</td>\n",
       "      <td>0.0</td>\n",
       "      <td>0.0</td>\n",
       "      <td>0.0</td>\n",
       "      <td>0</td>\n",
       "    </tr>\n",
       "    <tr>\n",
       "      <th>1</th>\n",
       "      <td>30</td>\n",
       "      <td>7</td>\n",
       "      <td>Friday</td>\n",
       "      <td>0.0</td>\n",
       "      <td>0.0</td>\n",
       "      <td>1.0</td>\n",
       "      <td>0.0</td>\n",
       "      <td>0.0</td>\n",
       "      <td>0.0</td>\n",
       "      <td>0.0</td>\n",
       "      <td>...</td>\n",
       "      <td>0.0</td>\n",
       "      <td>0.0</td>\n",
       "      <td>1.0</td>\n",
       "      <td>0.0</td>\n",
       "      <td>0.0</td>\n",
       "      <td>0.0</td>\n",
       "      <td>0.0</td>\n",
       "      <td>0.0</td>\n",
       "      <td>2.0</td>\n",
       "      <td>2</td>\n",
       "    </tr>\n",
       "    <tr>\n",
       "      <th>2</th>\n",
       "      <td>999</td>\n",
       "      <td>140278</td>\n",
       "      <td>Saturday</td>\n",
       "      <td>0.0</td>\n",
       "      <td>1.0</td>\n",
       "      <td>0.0</td>\n",
       "      <td>0.0</td>\n",
       "      <td>0.0</td>\n",
       "      <td>0.0</td>\n",
       "      <td>0.0</td>\n",
       "      <td>...</td>\n",
       "      <td>0.0</td>\n",
       "      <td>0.0</td>\n",
       "      <td>0.0</td>\n",
       "      <td>0.0</td>\n",
       "      <td>0.0</td>\n",
       "      <td>0.0</td>\n",
       "      <td>0.0</td>\n",
       "      <td>0.0</td>\n",
       "      <td>0.0</td>\n",
       "      <td>0</td>\n",
       "    </tr>\n",
       "    <tr>\n",
       "      <th>3</th>\n",
       "      <td>999</td>\n",
       "      <td>19528</td>\n",
       "      <td>Sunday</td>\n",
       "      <td>1.0</td>\n",
       "      <td>0.0</td>\n",
       "      <td>0.0</td>\n",
       "      <td>0.0</td>\n",
       "      <td>0.0</td>\n",
       "      <td>0.0</td>\n",
       "      <td>0.0</td>\n",
       "      <td>...</td>\n",
       "      <td>0.0</td>\n",
       "      <td>0.0</td>\n",
       "      <td>0.0</td>\n",
       "      <td>0.0</td>\n",
       "      <td>0.0</td>\n",
       "      <td>0.0</td>\n",
       "      <td>0.0</td>\n",
       "      <td>0.0</td>\n",
       "      <td>4.0</td>\n",
       "      <td>3</td>\n",
       "    </tr>\n",
       "    <tr>\n",
       "      <th>4</th>\n",
       "      <td>999</td>\n",
       "      <td>102008</td>\n",
       "      <td>Sunday</td>\n",
       "      <td>1.0</td>\n",
       "      <td>0.0</td>\n",
       "      <td>0.0</td>\n",
       "      <td>0.0</td>\n",
       "      <td>0.0</td>\n",
       "      <td>0.0</td>\n",
       "      <td>0.0</td>\n",
       "      <td>...</td>\n",
       "      <td>0.0</td>\n",
       "      <td>0.0</td>\n",
       "      <td>0.0</td>\n",
       "      <td>0.0</td>\n",
       "      <td>0.0</td>\n",
       "      <td>0.0</td>\n",
       "      <td>0.0</td>\n",
       "      <td>0.0</td>\n",
       "      <td>0.0</td>\n",
       "      <td>0</td>\n",
       "    </tr>\n",
       "  </tbody>\n",
       "</table>\n",
       "<p>5 rows × 80 columns</p>\n",
       "</div>"
      ],
      "text/plain": [
       "   TripType  VisitNumber   Weekday  Sunday  Saturday  Friday  Thursday  \\\n",
       "0       999            5    Friday     0.0       0.0     1.0       0.0   \n",
       "1        30            7    Friday     0.0       0.0     1.0       0.0   \n",
       "2       999       140278  Saturday     0.0       1.0     0.0       0.0   \n",
       "3       999        19528    Sunday     1.0       0.0     0.0       0.0   \n",
       "4       999       102008    Sunday     1.0       0.0     0.0       0.0   \n",
       "\n",
       "   Wednesday  Tuesday  Monday    ...      SERVICE DELI  SHEER HOSIERY  SHOES  \\\n",
       "0        0.0      0.0     0.0    ...               0.0            0.0    0.0   \n",
       "1        0.0      0.0     0.0    ...               0.0            0.0    1.0   \n",
       "2        0.0      0.0     0.0    ...               0.0            0.0    0.0   \n",
       "3        0.0      0.0     0.0    ...               0.0            0.0    0.0   \n",
       "4        0.0      0.0     0.0    ...               0.0            0.0    0.0   \n",
       "\n",
       "   SLEEPWEAR/FOUNDATIONS  SPORTING GOODS  SWIMWEAR/OUTERWEAR  TOYS  WIRELESS  \\\n",
       "0                    0.0             0.0                 0.0   0.0       0.0   \n",
       "1                    0.0             0.0                 0.0   0.0       0.0   \n",
       "2                    0.0             0.0                 0.0   0.0       0.0   \n",
       "3                    0.0             0.0                 0.0   0.0       0.0   \n",
       "4                    0.0             0.0                 0.0   0.0       0.0   \n",
       "\n",
       "   TotProdts  CatBought  \n",
       "0        0.0          0  \n",
       "1        2.0          2  \n",
       "2        0.0          0  \n",
       "3        4.0          3  \n",
       "4        0.0          0  \n",
       "\n",
       "[5 rows x 80 columns]"
      ]
     },
     "execution_count": 105,
     "metadata": {},
     "output_type": "execute_result"
    }
   ],
   "source": [
    "TripSmallBal.head()"
   ]
  },
  {
   "cell_type": "code",
   "execution_count": 245,
   "metadata": {},
   "outputs": [
    {
     "data": {
      "text/plain": [
       "31"
      ]
     },
     "execution_count": 245,
     "metadata": {},
     "output_type": "execute_result"
    }
   ],
   "source": [
    "TripSmallBal.TripType.nunique()"
   ]
  },
  {
   "cell_type": "markdown",
   "metadata": {},
   "source": [
    "## Data Split , Test:Train = 70:30"
   ]
  },
  {
   "cell_type": "code",
   "execution_count": 106,
   "metadata": {},
   "outputs": [],
   "source": [
    "from sklearn.cross_validation import train_test_split"
   ]
  },
  {
   "cell_type": "code",
   "execution_count": 107,
   "metadata": {},
   "outputs": [
    {
     "data": {
      "text/plain": [
       "TripType                     int64\n",
       "VisitNumber                  int64\n",
       "Weekday                     object\n",
       "Sunday                     float64\n",
       "Saturday                   float64\n",
       "Friday                     float64\n",
       "Thursday                   float64\n",
       "Wednesday                  float64\n",
       "Tuesday                    float64\n",
       "Monday                     float64\n",
       "1-HR PHOTO                 float64\n",
       "ACCESSORIES                float64\n",
       "AUTOMOTIVE                 float64\n",
       "BAKERY                     float64\n",
       "BATH AND SHOWER            float64\n",
       "BEAUTY                     float64\n",
       "BEDDING                    float64\n",
       "BOOKS AND MAGAZINES        float64\n",
       "BOYS WEAR                  float64\n",
       "BRAS & SHAPEWEAR           float64\n",
       "CAMERAS AND SUPPLIES       float64\n",
       "CANDY, TOBACCO, COOKIES    float64\n",
       "CELEBRATION                float64\n",
       "COMM BREAD                 float64\n",
       "CONCEPT STORES             float64\n",
       "COOK AND DINE              float64\n",
       "DAIRY                      float64\n",
       "DSD GROCERY                float64\n",
       "ELECTRONICS                float64\n",
       "FABRICS AND CRAFTS         float64\n",
       "                            ...   \n",
       "LIQUOR,WINE,BEER           float64\n",
       "MEAT - FRESH & FROZEN      float64\n",
       "MEDIA AND GAMING           float64\n",
       "MENS WEAR                  float64\n",
       "MENSWEAR                   float64\n",
       "OFFICE SUPPLIES            float64\n",
       "OPTICAL - FRAMES           float64\n",
       "OPTICAL - LENSES           float64\n",
       "OTHER DEPARTMENTS          float64\n",
       "PAINT AND ACCESSORIES      float64\n",
       "PERSONAL CARE              float64\n",
       "PETS AND SUPPLIES          float64\n",
       "PHARMACY OTC               float64\n",
       "PHARMACY RX                float64\n",
       "PLAYERS AND ELECTRONICS    float64\n",
       "PLUS AND MATERNITY         float64\n",
       "PRE PACKED DELI            float64\n",
       "PRODUCE                    float64\n",
       "SEAFOOD                    float64\n",
       "SEASONAL                   float64\n",
       "SERVICE DELI               float64\n",
       "SHEER HOSIERY              float64\n",
       "SHOES                      float64\n",
       "SLEEPWEAR/FOUNDATIONS      float64\n",
       "SPORTING GOODS             float64\n",
       "SWIMWEAR/OUTERWEAR         float64\n",
       "TOYS                       float64\n",
       "WIRELESS                   float64\n",
       "TotProdts                  float64\n",
       "CatBought                    int64\n",
       "Length: 80, dtype: object"
      ]
     },
     "execution_count": 107,
     "metadata": {},
     "output_type": "execute_result"
    }
   ],
   "source": [
    "TripSmallBal.dtypes"
   ]
  },
  {
   "cell_type": "code",
   "execution_count": 108,
   "metadata": {
    "collapsed": true
   },
   "outputs": [],
   "source": [
    "X = TripSmallBal.loc[:,'Saturday':]\n",
    "y = TripSmallBal.loc[:,'TripType']"
   ]
  },
  {
   "cell_type": "code",
   "execution_count": 110,
   "metadata": {},
   "outputs": [
    {
     "data": {
      "text/html": [
       "<div>\n",
       "<style>\n",
       "    .dataframe thead tr:only-child th {\n",
       "        text-align: right;\n",
       "    }\n",
       "\n",
       "    .dataframe thead th {\n",
       "        text-align: left;\n",
       "    }\n",
       "\n",
       "    .dataframe tbody tr th {\n",
       "        vertical-align: top;\n",
       "    }\n",
       "</style>\n",
       "<table border=\"1\" class=\"dataframe\">\n",
       "  <thead>\n",
       "    <tr style=\"text-align: right;\">\n",
       "      <th></th>\n",
       "      <th>Saturday</th>\n",
       "      <th>Friday</th>\n",
       "      <th>Thursday</th>\n",
       "      <th>Wednesday</th>\n",
       "      <th>Tuesday</th>\n",
       "      <th>Monday</th>\n",
       "      <th>1-HR PHOTO</th>\n",
       "      <th>ACCESSORIES</th>\n",
       "      <th>AUTOMOTIVE</th>\n",
       "      <th>BAKERY</th>\n",
       "      <th>...</th>\n",
       "      <th>SERVICE DELI</th>\n",
       "      <th>SHEER HOSIERY</th>\n",
       "      <th>SHOES</th>\n",
       "      <th>SLEEPWEAR/FOUNDATIONS</th>\n",
       "      <th>SPORTING GOODS</th>\n",
       "      <th>SWIMWEAR/OUTERWEAR</th>\n",
       "      <th>TOYS</th>\n",
       "      <th>WIRELESS</th>\n",
       "      <th>TotProdts</th>\n",
       "      <th>CatBought</th>\n",
       "    </tr>\n",
       "  </thead>\n",
       "  <tbody>\n",
       "    <tr>\n",
       "      <th>0</th>\n",
       "      <td>0.0</td>\n",
       "      <td>1.0</td>\n",
       "      <td>0.0</td>\n",
       "      <td>0.0</td>\n",
       "      <td>0.0</td>\n",
       "      <td>0.0</td>\n",
       "      <td>0.0</td>\n",
       "      <td>0.0</td>\n",
       "      <td>0.0</td>\n",
       "      <td>0.0</td>\n",
       "      <td>...</td>\n",
       "      <td>0.0</td>\n",
       "      <td>0.0</td>\n",
       "      <td>0.0</td>\n",
       "      <td>0.0</td>\n",
       "      <td>0.0</td>\n",
       "      <td>0.0</td>\n",
       "      <td>0.0</td>\n",
       "      <td>0.0</td>\n",
       "      <td>0.0</td>\n",
       "      <td>0</td>\n",
       "    </tr>\n",
       "    <tr>\n",
       "      <th>1</th>\n",
       "      <td>0.0</td>\n",
       "      <td>1.0</td>\n",
       "      <td>0.0</td>\n",
       "      <td>0.0</td>\n",
       "      <td>0.0</td>\n",
       "      <td>0.0</td>\n",
       "      <td>0.0</td>\n",
       "      <td>0.0</td>\n",
       "      <td>0.0</td>\n",
       "      <td>0.0</td>\n",
       "      <td>...</td>\n",
       "      <td>0.0</td>\n",
       "      <td>0.0</td>\n",
       "      <td>1.0</td>\n",
       "      <td>0.0</td>\n",
       "      <td>0.0</td>\n",
       "      <td>0.0</td>\n",
       "      <td>0.0</td>\n",
       "      <td>0.0</td>\n",
       "      <td>2.0</td>\n",
       "      <td>2</td>\n",
       "    </tr>\n",
       "    <tr>\n",
       "      <th>2</th>\n",
       "      <td>1.0</td>\n",
       "      <td>0.0</td>\n",
       "      <td>0.0</td>\n",
       "      <td>0.0</td>\n",
       "      <td>0.0</td>\n",
       "      <td>0.0</td>\n",
       "      <td>0.0</td>\n",
       "      <td>0.0</td>\n",
       "      <td>0.0</td>\n",
       "      <td>0.0</td>\n",
       "      <td>...</td>\n",
       "      <td>0.0</td>\n",
       "      <td>0.0</td>\n",
       "      <td>0.0</td>\n",
       "      <td>0.0</td>\n",
       "      <td>0.0</td>\n",
       "      <td>0.0</td>\n",
       "      <td>0.0</td>\n",
       "      <td>0.0</td>\n",
       "      <td>0.0</td>\n",
       "      <td>0</td>\n",
       "    </tr>\n",
       "    <tr>\n",
       "      <th>3</th>\n",
       "      <td>0.0</td>\n",
       "      <td>0.0</td>\n",
       "      <td>0.0</td>\n",
       "      <td>0.0</td>\n",
       "      <td>0.0</td>\n",
       "      <td>0.0</td>\n",
       "      <td>0.0</td>\n",
       "      <td>0.0</td>\n",
       "      <td>0.0</td>\n",
       "      <td>0.0</td>\n",
       "      <td>...</td>\n",
       "      <td>0.0</td>\n",
       "      <td>0.0</td>\n",
       "      <td>0.0</td>\n",
       "      <td>0.0</td>\n",
       "      <td>0.0</td>\n",
       "      <td>0.0</td>\n",
       "      <td>0.0</td>\n",
       "      <td>0.0</td>\n",
       "      <td>4.0</td>\n",
       "      <td>3</td>\n",
       "    </tr>\n",
       "    <tr>\n",
       "      <th>4</th>\n",
       "      <td>0.0</td>\n",
       "      <td>0.0</td>\n",
       "      <td>0.0</td>\n",
       "      <td>0.0</td>\n",
       "      <td>0.0</td>\n",
       "      <td>0.0</td>\n",
       "      <td>0.0</td>\n",
       "      <td>0.0</td>\n",
       "      <td>-1.0</td>\n",
       "      <td>0.0</td>\n",
       "      <td>...</td>\n",
       "      <td>0.0</td>\n",
       "      <td>0.0</td>\n",
       "      <td>0.0</td>\n",
       "      <td>0.0</td>\n",
       "      <td>0.0</td>\n",
       "      <td>0.0</td>\n",
       "      <td>0.0</td>\n",
       "      <td>0.0</td>\n",
       "      <td>0.0</td>\n",
       "      <td>0</td>\n",
       "    </tr>\n",
       "  </tbody>\n",
       "</table>\n",
       "<p>5 rows × 76 columns</p>\n",
       "</div>"
      ],
      "text/plain": [
       "   Saturday  Friday  Thursday  Wednesday  Tuesday  Monday  1-HR PHOTO  \\\n",
       "0       0.0     1.0       0.0        0.0      0.0     0.0         0.0   \n",
       "1       0.0     1.0       0.0        0.0      0.0     0.0         0.0   \n",
       "2       1.0     0.0       0.0        0.0      0.0     0.0         0.0   \n",
       "3       0.0     0.0       0.0        0.0      0.0     0.0         0.0   \n",
       "4       0.0     0.0       0.0        0.0      0.0     0.0         0.0   \n",
       "\n",
       "   ACCESSORIES  AUTOMOTIVE  BAKERY    ...      SERVICE DELI  SHEER HOSIERY  \\\n",
       "0          0.0         0.0     0.0    ...               0.0            0.0   \n",
       "1          0.0         0.0     0.0    ...               0.0            0.0   \n",
       "2          0.0         0.0     0.0    ...               0.0            0.0   \n",
       "3          0.0         0.0     0.0    ...               0.0            0.0   \n",
       "4          0.0        -1.0     0.0    ...               0.0            0.0   \n",
       "\n",
       "   SHOES  SLEEPWEAR/FOUNDATIONS  SPORTING GOODS  SWIMWEAR/OUTERWEAR  TOYS  \\\n",
       "0    0.0                    0.0             0.0                 0.0   0.0   \n",
       "1    1.0                    0.0             0.0                 0.0   0.0   \n",
       "2    0.0                    0.0             0.0                 0.0   0.0   \n",
       "3    0.0                    0.0             0.0                 0.0   0.0   \n",
       "4    0.0                    0.0             0.0                 0.0   0.0   \n",
       "\n",
       "   WIRELESS  TotProdts  CatBought  \n",
       "0       0.0        0.0          0  \n",
       "1       0.0        2.0          2  \n",
       "2       0.0        0.0          0  \n",
       "3       0.0        4.0          3  \n",
       "4       0.0        0.0          0  \n",
       "\n",
       "[5 rows x 76 columns]"
      ]
     },
     "execution_count": 110,
     "metadata": {},
     "output_type": "execute_result"
    }
   ],
   "source": [
    "X.head()"
   ]
  },
  {
   "cell_type": "code",
   "execution_count": 111,
   "metadata": {
    "scrolled": true
   },
   "outputs": [
    {
     "data": {
      "text/plain": [
       "0    999\n",
       "1     30\n",
       "2    999\n",
       "3    999\n",
       "4    999\n",
       "Name: TripType, dtype: int64"
      ]
     },
     "execution_count": 111,
     "metadata": {},
     "output_type": "execute_result"
    }
   ],
   "source": [
    "y.head()"
   ]
  },
  {
   "cell_type": "code",
   "execution_count": 231,
   "metadata": {},
   "outputs": [
    {
     "name": "stdout",
     "output_type": "stream",
     "text": [
      "(55802, 76) (55802,)\n"
     ]
    }
   ],
   "source": [
    "print(X.shape,y.shape)"
   ]
  },
  {
   "cell_type": "code",
   "execution_count": 112,
   "metadata": {},
   "outputs": [],
   "source": [
    "X_train, X_test, y_train, y_test = train_test_split(X, y, test_size=0.3, random_state=42, stratify =y)"
   ]
  },
  {
   "cell_type": "code",
   "execution_count": 113,
   "metadata": {},
   "outputs": [
    {
     "data": {
      "text/plain": [
       "2.333253688549071"
      ]
     },
     "execution_count": 113,
     "metadata": {},
     "output_type": "execute_result"
    }
   ],
   "source": [
    "len(y_train)/len(y_test)"
   ]
  },
  {
   "cell_type": "code",
   "execution_count": 233,
   "metadata": {},
   "outputs": [
    {
     "name": "stdout",
     "output_type": "stream",
     "text": [
      "(16741, 76) (16741,) (39061, 76) (39061,)\n"
     ]
    }
   ],
   "source": [
    "print(X_test.shape,y_test.shape,X_train.shape,y_train.shape)"
   ]
  },
  {
   "cell_type": "code",
   "execution_count": 118,
   "metadata": {},
   "outputs": [
    {
     "data": {
      "text/plain": [
       "2.3333333333333335"
      ]
     },
     "execution_count": 118,
     "metadata": {},
     "output_type": "execute_result"
    }
   ],
   "source": [
    "1260/540   #Check ratio for class 8"
   ]
  },
  {
   "cell_type": "code",
   "execution_count": 119,
   "metadata": {
    "scrolled": true
   },
   "outputs": [
    {
     "data": {
      "text/plain": [
       "array([ 43,  24,  22,  15,   8,   7,  35,  40,  42,  26,  44,  41,  39,\n",
       "        21,  37,  33,   6, 999,  27,  34,  30,  36,  32,   9,  31,  20,\n",
       "        25,   3,  18,  38,   5])"
      ]
     },
     "execution_count": 119,
     "metadata": {},
     "output_type": "execute_result"
    }
   ],
   "source": [
    "y_train.unique()"
   ]
  },
  {
   "cell_type": "code",
   "execution_count": 234,
   "metadata": {},
   "outputs": [
    {
     "name": "stdout",
     "output_type": "stream",
     "text": [
      "31 31\n"
     ]
    }
   ],
   "source": [
    "print(y_train.nunique(),y_test.nunique())"
   ]
  },
  {
   "cell_type": "markdown",
   "metadata": {},
   "source": [
    "  \n",
    "  "
   ]
  },
  {
   "cell_type": "markdown",
   "metadata": {},
   "source": [
    "  "
   ]
  },
  {
   "cell_type": "markdown",
   "metadata": {},
   "source": [
    "  "
   ]
  },
  {
   "cell_type": "markdown",
   "metadata": {},
   "source": [
    "  "
   ]
  },
  {
   "cell_type": "markdown",
   "metadata": {},
   "source": [
    "  "
   ]
  },
  {
   "cell_type": "markdown",
   "metadata": {},
   "source": [
    "### Logistic Regression"
   ]
  },
  {
   "cell_type": "code",
   "execution_count": 120,
   "metadata": {
    "collapsed": true
   },
   "outputs": [],
   "source": [
    "from sklearn.linear_model import LogisticRegression"
   ]
  },
  {
   "cell_type": "markdown",
   "metadata": {},
   "source": [
    "#### multi_class :  default: ‘ovr’"
   ]
  },
  {
   "cell_type": "code",
   "execution_count": 122,
   "metadata": {},
   "outputs": [
    {
     "name": "stdout",
     "output_type": "stream",
     "text": [
      "Logistic Regression Accuracy Score (Train)= 0.674125086403\n",
      "CPU times: user 21 s, sys: 131 ms, total: 21.1 s\n",
      "Wall time: 21.2 s\n"
     ]
    }
   ],
   "source": [
    "%%time\n",
    "logreg = LogisticRegression()           #class_weight='balanced' already\n",
    "logreg.fit(X_train, y_train)\n",
    "\n",
    "y_log_pred_train = logreg.predict(X_train)\n",
    "print('Logistic Regression Accuracy Score (Train)=',metrics.accuracy_score(y_train, y_log_pred_train))"
   ]
  },
  {
   "cell_type": "code",
   "execution_count": 123,
   "metadata": {
    "scrolled": false
   },
   "outputs": [
    {
     "name": "stdout",
     "output_type": "stream",
     "text": [
      "Logistic Regression Accuracy Score(Test)= 0.667403380921\n",
      "CPU times: user 36.1 ms, sys: 20.6 ms, total: 56.7 ms\n",
      "Wall time: 43 ms\n"
     ]
    }
   ],
   "source": [
    "%%time\n",
    "y_Log_pred = logreg.predict(X_test)\n",
    "print('Logistic Regression Accuracy Score(Test)=',metrics.accuracy_score(y_test, y_Log_pred))"
   ]
  },
  {
   "cell_type": "markdown",
   "metadata": {},
   "source": [
    "#### For multi_class its better to use ‘multinomial’  ---->  solver = 'newton-cg'\n",
    "\n",
    "Note: Need to add solver =  ‘newton-cg’, ‘sag’ or ‘lbfgs’  \n",
    "As the default solver ‘liblinear’ doesn't support multinomial"
   ]
  },
  {
   "cell_type": "code",
   "execution_count": 125,
   "metadata": {},
   "outputs": [
    {
     "name": "stdout",
     "output_type": "stream",
     "text": [
      "CPU times: user 3 µs, sys: 0 ns, total: 3 µs\n",
      "Wall time: 6.91 µs\n",
      "Logistic Regression Accuracy Score (Train)= 0.677939632882\n"
     ]
    }
   ],
   "source": [
    "%time\n",
    "logreg = LogisticRegression(multi_class= 'multinomial', solver = 'newton-cg')   # class_weight='balanced' already\n",
    "logreg.fit(X_train, y_train)\n",
    "y_log_pred_train = logreg.predict(X_train)\n",
    "print('Logistic Regression Accuracy Score (Train)=',metrics.accuracy_score(y_train, y_log_pred_train))"
   ]
  },
  {
   "cell_type": "code",
   "execution_count": 127,
   "metadata": {},
   "outputs": [
    {
     "name": "stdout",
     "output_type": "stream",
     "text": [
      "Logistic Regression Accuracy Score(Test)= 0.669732990861\n",
      "CPU times: user 27.8 ms, sys: 8.7 ms, total: 36.5 ms\n",
      "Wall time: 24.5 ms\n"
     ]
    }
   ],
   "source": [
    "%%time\n",
    "y_Log_pred_test = logreg.predict(X_test)\n",
    "print('Logistic Regression Accuracy Score(Test)=',metrics.accuracy_score(y_test, y_Log_pred_test))"
   ]
  },
  {
   "cell_type": "code",
   "execution_count": 135,
   "metadata": {},
   "outputs": [
    {
     "name": "stdout",
     "output_type": "stream",
     "text": [
      "Recall micro-average for Logistic Regression (Train) = 0.677939632882\n",
      "Recall micro-average for Logistic Regression (Test) = 0.669732990861\n"
     ]
    }
   ],
   "source": [
    "#'micro': Calculate metrics globally by counting the total true positives, false negatives and false positives\n",
    "\n",
    "RecallTrain = metrics.recall_score(y_train, y_log_pred_train, average='micro')\n",
    "print('Recall micro-average for Logistic Regression (Train) =', RecallTrain)\n",
    "\n",
    "#'micro': Calculate metrics globally by counting the total true positives, false negatives and false positives\n",
    "\n",
    "RecallTest = metrics.recall_score(y_test, y_Log_pred, average='micro')\n",
    "print('Recall micro-average for Logistic Regression (Test) =', RecallTest)"
   ]
  },
  {
   "cell_type": "code",
   "execution_count": 129,
   "metadata": {},
   "outputs": [
    {
     "name": "stdout",
     "output_type": "stream",
     "text": [
      "Precision micro-average for Logistic Regression (Train) = 0.677939632882\n",
      "Precision micro-average for Logistic Regression (Test) = 0.669732990861\n"
     ]
    }
   ],
   "source": [
    "#'micro': Calculate metrics globally by counting the total true positives, false negatives and false positives\n",
    "\n",
    "PrecisionTrain = metrics.precision_score(y_train, y_log_pred_train, average='micro')\n",
    "print('Precision micro-average for Logistic Regression (Train) =', PrecisionTrain)\n",
    "\n",
    "#'micro': Calculate metrics globally by counting the total true positives, false negatives and false positives\n",
    "\n",
    "PrecisionTest = metrics.precision_score(y_test, y_Log_pred_test, average='micro')\n",
    "print('Precision micro-average for Logistic Regression (Test) =', PrecisionTest)"
   ]
  },
  {
   "cell_type": "code",
   "execution_count": 130,
   "metadata": {},
   "outputs": [
    {
     "name": "stdout",
     "output_type": "stream",
     "text": [
      "F1_score micro-average for Logistic Regression (Train) = 0.677939632882\n",
      "F1_score micro-average for Logistic Regression (Test) = 0.669732990861\n"
     ]
    }
   ],
   "source": [
    "#'micro': Calculate metrics globally by counting the total true positives, false negatives and false positives\n",
    "\n",
    "F1Train = metrics.f1_score(y_train, y_log_pred_train, average='micro')\n",
    "print('F1_score micro-average for Logistic Regression (Train) =', F1Train)\n",
    "\n",
    "#'micro': Calculate metrics globally by counting the total true positives, false negatives and false positives\n",
    "\n",
    "F1Test = metrics.f1_score(y_test, y_Log_pred_test, average='micro')\n",
    "print('F1_score micro-average for Logistic Regression (Test) =', F1Test)"
   ]
  },
  {
   "cell_type": "code",
   "execution_count": 131,
   "metadata": {
    "scrolled": true
   },
   "outputs": [
    {
     "name": "stdout",
     "output_type": "stream",
     "text": [
      "Accuracy: 0.670\n",
      "             precision    recall  f1-score   support\n",
      "\n",
      "          3       0.86      0.94      0.90       540\n",
      "          5       0.78      0.88      0.83       540\n",
      "          6       0.81      0.86      0.84       540\n",
      "          7       0.62      0.69      0.65       540\n",
      "          8       0.54      0.77      0.63       540\n",
      "          9       0.47      0.53      0.50       540\n",
      "         15       0.60      0.49      0.54       540\n",
      "         18       0.72      0.69      0.71       540\n",
      "         20       0.81      0.83      0.82       540\n",
      "         21       0.73      0.79      0.76       540\n",
      "         22       0.74      0.84      0.79       540\n",
      "         24       0.61      0.59      0.60       540\n",
      "         25       0.63      0.73      0.68       540\n",
      "         26       0.71      0.74      0.72       540\n",
      "         27       0.80      0.77      0.78       540\n",
      "         30       0.61      0.74      0.67       541\n",
      "         31       0.92      0.93      0.92       540\n",
      "         32       0.76      0.76      0.76       540\n",
      "         33       0.71      0.73      0.72       540\n",
      "         34       0.84      0.74      0.78       540\n",
      "         35       0.58      0.72      0.64       540\n",
      "         36       0.68      0.70      0.69       540\n",
      "         37       0.65      0.68      0.67       540\n",
      "         38       0.54      0.58      0.56       540\n",
      "         39       0.39      0.26      0.31       540\n",
      "         40       0.72      0.67      0.69       540\n",
      "         41       0.43      0.36      0.39       540\n",
      "         42       0.41      0.23      0.29       540\n",
      "         43       0.37      0.27      0.31       540\n",
      "         44       0.60      0.52      0.56       540\n",
      "        999       0.95      0.73      0.83       540\n",
      "\n",
      "avg / total       0.66      0.67      0.66     16741\n",
      "\n"
     ]
    }
   ],
   "source": [
    "from sklearn.metrics import accuracy_score, classification_report\n",
    "\n",
    "print(\"Accuracy: %.3f\"% accuracy_score(y_test, y_Log_pred_test))\n",
    "print(classification_report(y_test, logreg.predict(X_test)))"
   ]
  },
  {
   "cell_type": "markdown",
   "metadata": {},
   "source": [
    "  "
   ]
  },
  {
   "cell_type": "markdown",
   "metadata": {},
   "source": [
    "#### Confusion Matrix - Logistic Regression - Multinomial"
   ]
  },
  {
   "cell_type": "code",
   "execution_count": 136,
   "metadata": {},
   "outputs": [
    {
     "name": "stdout",
     "output_type": "stream",
     "text": [
      "Populating the interactive namespace from numpy and matplotlib\n"
     ]
    }
   ],
   "source": [
    "from sklearn.metrics import accuracy_score, confusion_matrix\n",
    "from matplotlib import pyplot as plt\n",
    "import seaborn\n",
    "seaborn.set_style(\"white\")\n",
    "%pylab inline"
   ]
  },
  {
   "cell_type": "code",
   "execution_count": 137,
   "metadata": {
    "collapsed": true
   },
   "outputs": [],
   "source": [
    "def plot_confusion(title_plot,y_test, y_pred):\n",
    "    \n",
    "    #y_pred = clf.predict(x)\n",
    "    c_mat = confusion_matrix(y_test,y_pred)\n",
    "    labels = unique(y_test)\n",
    "    seaborn.heatmap(\n",
    "        sqrt(c_mat),\n",
    "        annot=c_mat,\n",
    "        xticklabels=labels,\n",
    "        yticklabels=labels,\n",
    "        cbar=False);\n",
    "    ylabel(\"True Label\", fontsize = 'large',fontweight ='bold' )\n",
    "    xlabel(\"Predicted Label\", fontsize = 'large',fontweight ='bold' )\n",
    "    title(title_plot, fontsize = 'xx-large',fontweight ='bold' )"
   ]
  },
  {
   "cell_type": "code",
   "execution_count": 138,
   "metadata": {},
   "outputs": [
    {
     "data": {
      "image/png": "[encoded data removed]",
      "text/plain": [
       "<matplotlib.figure.Figure at 0x12fe98da0>"
      ]
     },
     "metadata": {},
     "output_type": "display_data"
    }
   ],
   "source": [
    "figsize(15, 15)\n",
    "plot_confusion('Confusion Matrix - Logistic Regression',y_test, y_Log_pred)"
   ]
  },
  {
   "cell_type": "markdown",
   "metadata": {},
   "source": [
    "  "
   ]
  },
  {
   "cell_type": "markdown",
   "metadata": {},
   "source": [
    "    "
   ]
  },
  {
   "cell_type": "markdown",
   "metadata": {},
   "source": [
    "  "
   ]
  },
  {
   "cell_type": "markdown",
   "metadata": {},
   "source": [
    "   "
   ]
  },
  {
   "cell_type": "markdown",
   "metadata": {},
   "source": [
    "#### KNN"
   ]
  },
  {
   "cell_type": "code",
   "execution_count": 139,
   "metadata": {
    "collapsed": true
   },
   "outputs": [],
   "source": [
    "from sklearn.neighbors import KNeighborsClassifier"
   ]
  },
  {
   "cell_type": "code",
   "execution_count": 140,
   "metadata": {
    "collapsed": true
   },
   "outputs": [],
   "source": [
    "k_range = list(range(1, 21))\n",
    "k_scores = []"
   ]
  },
  {
   "cell_type": "code",
   "execution_count": 141,
   "metadata": {},
   "outputs": [
    {
     "name": "stdout",
     "output_type": "stream",
     "text": [
      "k= 1   Accuracy Score= 0.709814228541\n",
      "k= 2   Accuracy Score= 0.666925512216\n",
      "k= 3   Accuracy Score= 0.675347948151\n",
      "k= 4   Accuracy Score= 0.67140553133\n",
      "k= 5   Accuracy Score= 0.667463114509\n",
      "k= 6   Accuracy Score= 0.662027357983\n",
      "k= 7   Accuracy Score= 0.65617346634\n",
      "k= 8   Accuracy Score= 0.651932381578\n",
      "k= 9   Accuracy Score= 0.647631563228\n",
      "k= 10   Accuracy Score= 0.643569679231\n",
      "k= 11   Accuracy Score= 0.641717937997\n",
      "k= 12   Accuracy Score= 0.640463532644\n",
      "k= 13   Accuracy Score= 0.638313123469\n",
      "k= 14   Accuracy Score= 0.635505644824\n",
      "k= 15   Accuracy Score= 0.636580849412\n",
      "k= 16   Accuracy Score= 0.635206976883\n",
      "k= 17   Accuracy Score= 0.63431097306\n",
      "k= 18   Accuracy Score= 0.636580849412\n",
      "k= 19   Accuracy Score= 0.634549907413\n",
      "k= 20   Accuracy Score= 0.63299683412\n",
      "CPU times: user 16min 39s, sys: 6.76 s, total: 16min 46s\n",
      "Wall time: 17min 12s\n"
     ]
    }
   ],
   "source": [
    "%%time\n",
    "for k in k_range:\n",
    "    knn = KNeighborsClassifier(n_neighbors=k)\n",
    "    knn.fit(X_train, y_train)\n",
    "    y_knn_pred = knn.predict(X_test)\n",
    "    print('k=',k,'  Accuracy Score=',metrics.accuracy_score(y_test, y_knn_pred))\n",
    "    k_scores.append(metrics.accuracy_score(y_test, y_knn_pred))  \n",
    "    ## Here y_test is actual scores from the test set and y_pred are scores predicted by model for the test set data"
   ]
  },
  {
   "cell_type": "code",
   "execution_count": 142,
   "metadata": {},
   "outputs": [
    {
     "data": {
      "text/plain": [
       "0.70981422854070841"
      ]
     },
     "execution_count": 142,
     "metadata": {},
     "output_type": "execute_result"
    }
   ],
   "source": [
    "max(k_scores)   # Best Accuracy at k=17"
   ]
  },
  {
   "cell_type": "code",
   "execution_count": 143,
   "metadata": {},
   "outputs": [
    {
     "data": {
      "text/plain": [
       "<matplotlib.text.Text at 0x118fdf438>"
      ]
     },
     "execution_count": 143,
     "metadata": {},
     "output_type": "execute_result"
    },
    {
     "data": {
      "image/png": "[encoded data removed]",
      "text/plain": [
       "<matplotlib.figure.Figure at 0x130264470>"
      ]
     },
     "metadata": {},
     "output_type": "display_data"
    }
   ],
   "source": [
    "# plot the value of K for KNN (x-axis) versus the accuracy (y-axis)\n",
    "plt.plot(k_range, k_scores)\n",
    "plt.xlabel('Value of K for KNN')\n",
    "plt.ylabel('Accuracy Score')"
   ]
  },
  {
   "cell_type": "markdown",
   "metadata": {},
   "source": [
    "#### KNN for 2ndbest accuracy score at k=  3  -------->>>>> BEST AT ~7\n",
    "overfits at k=1 "
   ]
  },
  {
   "cell_type": "code",
   "execution_count": 149,
   "metadata": {},
   "outputs": [
    {
     "name": "stdout",
     "output_type": "stream",
     "text": [
      "KNN (k= 20 ) Accuracy Score (Train)= 0.804152479455\n",
      "CPU times: user 1min 15s, sys: 655 ms, total: 1min 15s\n",
      "Wall time: 1min 17s\n"
     ]
    }
   ],
   "source": [
    "%%time\n",
    "knn = KNeighborsClassifier(n_neighbors=3) \n",
    "knn.fit(X_train, y_train)\n",
    "\n",
    "y_knn_pred_train = knn.predict(X_train)\n",
    "print('KNN (k=',k,') Accuracy Score (Train)=',metrics.accuracy_score(y_train, y_knn_pred_train))   "
   ]
  },
  {
   "cell_type": "code",
   "execution_count": 150,
   "metadata": {},
   "outputs": [
    {
     "name": "stdout",
     "output_type": "stream",
     "text": [
      "KNN (k= 20 ) Accuracy Score(Test) = 0.675347948151\n",
      "CPU times: user 31.9 s, sys: 137 ms, total: 32 s\n",
      "Wall time: 32.1 s\n"
     ]
    }
   ],
   "source": [
    "%%time\n",
    "y_knn_pred = knn.predict(X_test)\n",
    "print('KNN (k=',k,') Accuracy Score(Test) =',metrics.accuracy_score(y_test, y_knn_pred))"
   ]
  },
  {
   "cell_type": "code",
   "execution_count": 151,
   "metadata": {},
   "outputs": [
    {
     "name": "stdout",
     "output_type": "stream",
     "text": [
      "Recall micro-average for KNN (Train) = 0.804152479455\n",
      "Recall micro-average for KNN (Test) = 0.675347948151\n"
     ]
    }
   ],
   "source": [
    "#'micro': Calculate metrics globally by counting the total true positives, false negatives and false positives\n",
    "\n",
    "RecallTrain = metrics.recall_score(y_train, y_knn_pred_train, average='micro')\n",
    "print('Recall micro-average for KNN (Train) =', RecallTrain)\n",
    "\n",
    "#'micro': Calculate metrics globally by counting the total true positives, false negatives and false positives\n",
    "\n",
    "RecallTest = metrics.recall_score(y_test,  y_knn_pred, average='micro')\n",
    "print('Recall micro-average for KNN (Test) =', RecallTest)"
   ]
  },
  {
   "cell_type": "code",
   "execution_count": 152,
   "metadata": {},
   "outputs": [
    {
     "name": "stdout",
     "output_type": "stream",
     "text": [
      "Precision micro-average for KNN (Train) = 0.804152479455\n",
      "Precision micro-average for KNN (Test) = 0.675347948151\n"
     ]
    }
   ],
   "source": [
    "#'micro': Calculate metrics globally by counting the total true positives, false negatives and false positives\n",
    "\n",
    "PrecisionTrain = metrics.precision_score(y_train, y_knn_pred_train, average='micro')\n",
    "print('Precision micro-average for KNN (Train) =', PrecisionTrain)\n",
    "\n",
    "#'micro': Calculate metrics globally by counting the total true positives, false negatives and false positives\n",
    "\n",
    "PrecisionTest = metrics.precision_score(y_test, y_knn_pred, average='micro')\n",
    "print('Precision micro-average for KNN (Test) =', PrecisionTest)"
   ]
  },
  {
   "cell_type": "code",
   "execution_count": 153,
   "metadata": {},
   "outputs": [
    {
     "name": "stdout",
     "output_type": "stream",
     "text": [
      "F1_score micro-average for KNN (Train) = 0.804152479455\n",
      "F1_score micro-average for KNN (Test) = 0.675347948151\n"
     ]
    }
   ],
   "source": [
    "#'micro': Calculate metrics globally by counting the total true positives, false negatives and false positives\n",
    "\n",
    "F1Train = metrics.f1_score(y_train, y_knn_pred_train, average='micro')\n",
    "print('F1_score micro-average for KNN (Train) =', F1Train)\n",
    "\n",
    "#'micro': Calculate metrics globally by counting the total true positives, false negatives and false positives\n",
    "\n",
    "F1Test = metrics.f1_score(y_test, y_knn_pred, average='micro')\n",
    "print('F1_score micro-average for KNN (Test) =', F1Test)"
   ]
  },
  {
   "cell_type": "code",
   "execution_count": 223,
   "metadata": {},
   "outputs": [
    {
     "name": "stdout",
     "output_type": "stream",
     "text": [
      "KNN (k= 3 ) Accuracy Score(Test) = 0.675347948151\n",
      "             precision    recall  f1-score   support\n",
      "\n",
      "          3       0.79      0.83      0.81       540\n",
      "          5       0.66      0.82      0.73       540\n",
      "          6       0.74      0.88      0.80       540\n",
      "          7       0.49      0.61      0.54       540\n",
      "          8       0.54      0.64      0.58       540\n",
      "          9       0.50      0.40      0.45       540\n",
      "         15       0.63      0.76      0.69       540\n",
      "         18       0.72      0.88      0.79       540\n",
      "         20       0.84      0.93      0.88       540\n",
      "         21       0.80      0.92      0.86       540\n",
      "         22       0.77      0.81      0.79       540\n",
      "         24       0.51      0.47      0.49       540\n",
      "         25       0.59      0.54      0.57       540\n",
      "         26       0.78      0.89      0.83       540\n",
      "         27       0.82      0.88      0.85       540\n",
      "         30       0.65      0.67      0.66       541\n",
      "         31       0.94      0.94      0.94       540\n",
      "         32       0.73      0.71      0.72       540\n",
      "         33       0.70      0.81      0.75       540\n",
      "         34       0.84      0.90      0.87       540\n",
      "         35       0.60      0.64      0.62       540\n",
      "         36       0.63      0.63      0.63       540\n",
      "         37       0.57      0.62      0.60       540\n",
      "         38       0.50      0.46      0.48       540\n",
      "         39       0.26      0.14      0.19       540\n",
      "         40       0.67      0.63      0.65       540\n",
      "         41       0.71      0.71      0.71       540\n",
      "         42       0.36      0.09      0.15       540\n",
      "         43       0.65      0.52      0.58       540\n",
      "         44       0.65      0.51      0.57       540\n",
      "        999       0.83      0.68      0.75       540\n",
      "\n",
      "avg / total       0.66      0.68      0.66     16741\n",
      "\n",
      "CPU times: user 34.7 s, sys: 400 ms, total: 35.1 s\n",
      "Wall time: 35.9 s\n"
     ]
    }
   ],
   "source": [
    "%%time\n",
    "y_knn_pred = knn.predict(X_test)\n",
    "print('KNN (k=',3,') Accuracy Score(Test) =',metrics.accuracy_score(y_test, y_knn_pred))\n",
    "print(classification_report(y_test, y_knn_pred))"
   ]
  },
  {
   "cell_type": "markdown",
   "metadata": {},
   "source": [
    "#### Confusion Matrix KNN, k=3"
   ]
  },
  {
   "cell_type": "code",
   "execution_count": 224,
   "metadata": {
    "scrolled": true
   },
   "outputs": [
    {
     "data": {
      "image/png": "[encoded data removed]",
      "text/plain": [
       "<matplotlib.figure.Figure at 0x1282fc748>"
      ]
     },
     "metadata": {},
     "output_type": "display_data"
    }
   ],
   "source": [
    "figsize(15, 15)\n",
    "plot_confusion('Confusion Matrix - KNN, k=3',y_test, y_knn_pred)"
   ]
  },
  {
   "cell_type": "markdown",
   "metadata": {},
   "source": [
    "  "
   ]
  },
  {
   "cell_type": "markdown",
   "metadata": {},
   "source": [
    "  "
   ]
  },
  {
   "cell_type": "markdown",
   "metadata": {},
   "source": [
    "  "
   ]
  },
  {
   "cell_type": "markdown",
   "metadata": {},
   "source": [
    "  "
   ]
  },
  {
   "cell_type": "markdown",
   "metadata": {},
   "source": [
    "  "
   ]
  },
  {
   "cell_type": "markdown",
   "metadata": {},
   "source": [
    "  "
   ]
  },
  {
   "cell_type": "markdown",
   "metadata": {},
   "source": [
    "#### Gaussian Naive Bayes"
   ]
  },
  {
   "cell_type": "code",
   "execution_count": 157,
   "metadata": {
    "collapsed": true
   },
   "outputs": [],
   "source": [
    "from sklearn.naive_bayes import GaussianNB "
   ]
  },
  {
   "cell_type": "code",
   "execution_count": 244,
   "metadata": {},
   "outputs": [
    {
     "name": "stdout",
     "output_type": "stream",
     "text": [
      "Gaussian Naive Bayes Accuracy Score (Train)= 0.344512429277\n",
      "CPU times: user 799 ms, sys: 352 ms, total: 1.15 s\n",
      "Wall time: 1.15 s\n"
     ]
    }
   ],
   "source": [
    "%%time\n",
    "GNB = GaussianNB()  #class_weight='balanced'\n",
    "GNB.fit(X_train, y_train)\n",
    "\n",
    "y_GNB_pred_train = GNB.predict(X_train)\n",
    "print('Gaussian Naive Bayes Accuracy Score (Train)=',metrics.accuracy_score(y_train, y_GNB_pred_train))"
   ]
  },
  {
   "cell_type": "code",
   "execution_count": 159,
   "metadata": {},
   "outputs": [
    {
     "name": "stdout",
     "output_type": "stream",
     "text": [
      "Gaussian Naive Bayes Accuracy Score (Test)= 0.335463831312\n",
      "CPU times: user 307 ms, sys: 155 ms, total: 462 ms\n",
      "Wall time: 461 ms\n"
     ]
    }
   ],
   "source": [
    "%%time\n",
    "y_GNB_pred = GNB.predict(X_test)\n",
    "print('Gaussian Naive Bayes Accuracy Score (Test)=',metrics.accuracy_score(y_test, y_GNB_pred))"
   ]
  },
  {
   "cell_type": "markdown",
   "metadata": {},
   "source": [
    "  "
   ]
  },
  {
   "cell_type": "markdown",
   "metadata": {},
   "source": [
    "  "
   ]
  },
  {
   "cell_type": "markdown",
   "metadata": {},
   "source": [
    "  "
   ]
  },
  {
   "cell_type": "markdown",
   "metadata": {},
   "source": [
    "  "
   ]
  },
  {
   "cell_type": "markdown",
   "metadata": {},
   "source": [
    "#### Support Vector Machine"
   ]
  },
  {
   "cell_type": "code",
   "execution_count": 160,
   "metadata": {
    "collapsed": true
   },
   "outputs": [],
   "source": [
    "from sklearn import svm"
   ]
  },
  {
   "cell_type": "markdown",
   "metadata": {},
   "source": [
    "#### Linear Kernel "
   ]
  },
  {
   "cell_type": "code",
   "execution_count": 161,
   "metadata": {
    "scrolled": true
   },
   "outputs": [
    {
     "name": "stdout",
     "output_type": "stream",
     "text": [
      "SVM Accuracy Score (Train)= 0.727375131205\n",
      "CPU times: user 3min 16s, sys: 1.62 s, total: 3min 18s\n",
      "Wall time: 3min 21s\n"
     ]
    }
   ],
   "source": [
    "%%time\n",
    "model_svm = svm.SVC(kernel='linear')    #,class_weight='balanced')\n",
    "model_svm.fit(X_train, y_train);\n",
    "\n",
    "y_SVM_pred_train = model_svm.predict(X_train)\n",
    "print('SVM Accuracy Score (Train)=',metrics.accuracy_score(y_train, y_SVM_pred_train))"
   ]
  },
  {
   "cell_type": "code",
   "execution_count": 162,
   "metadata": {},
   "outputs": [
    {
     "name": "stdout",
     "output_type": "stream",
     "text": [
      "SVM Accuracy Score (Test)= 0.6998984529\n",
      "CPU times: user 44.5 s, sys: 336 ms, total: 44.8 s\n",
      "Wall time: 45.4 s\n"
     ]
    }
   ],
   "source": [
    "%%time\n",
    "y_SVM_pred = model_svm.predict(X_test)\n",
    "print('SVM Accuracy Score (Test)=',metrics.accuracy_score(y_test, y_SVM_pred))"
   ]
  },
  {
   "cell_type": "code",
   "execution_count": 163,
   "metadata": {},
   "outputs": [
    {
     "name": "stdout",
     "output_type": "stream",
     "text": [
      "Recall micro-average for SVM Linear (Train) = 0.727375131205\n",
      "Recall micro-average for SVM Linear (Test) = 0.6998984529\n"
     ]
    }
   ],
   "source": [
    "#'micro': Calculate metrics globally by counting the total true positives, false negatives and false positives\n",
    "\n",
    "RecallTrain = metrics.recall_score(y_train, y_SVM_pred_train, average='micro')\n",
    "print('Recall micro-average for SVM Linear (Train) =', RecallTrain)\n",
    "\n",
    "#'micro': Calculate metrics globally by counting the total true positives, false negatives and false positives\n",
    "\n",
    "RecallTest = metrics.recall_score(y_test,  y_SVM_pred, average='micro')\n",
    "print('Recall micro-average for SVM Linear (Test) =', RecallTest)"
   ]
  },
  {
   "cell_type": "code",
   "execution_count": 164,
   "metadata": {},
   "outputs": [
    {
     "name": "stdout",
     "output_type": "stream",
     "text": [
      "Precision micro-average for SVM Linear (Train) = 0.727375131205\n",
      "Precision micro-average for SVM Linear (Test) = 0.6998984529\n"
     ]
    }
   ],
   "source": [
    "#'micro': Calculate metrics globally by counting the total true positives, false negatives and false positives\n",
    "\n",
    "PrecisionTrain = metrics.precision_score(y_train, y_SVM_pred_train, average='micro')\n",
    "print('Precision micro-average for SVM Linear (Train) =', PrecisionTrain)\n",
    "\n",
    "#'micro': Calculate metrics globally by counting the total true positives, false negatives and false positives\n",
    "\n",
    "PrecisionTest = metrics.precision_score(y_test, y_SVM_pred, average='micro')\n",
    "print('Precision micro-average for SVM Linear (Test) =', PrecisionTest)"
   ]
  },
  {
   "cell_type": "code",
   "execution_count": 165,
   "metadata": {},
   "outputs": [
    {
     "name": "stdout",
     "output_type": "stream",
     "text": [
      "F1_score micro-average for SVM Linear (Train) = 0.727375131205\n",
      "F1_score micro-average for SVM Linear (Test) = 0.6998984529\n"
     ]
    }
   ],
   "source": [
    "#'micro': Calculate metrics globally by counting the total true positives, false negatives and false positives\n",
    "\n",
    "F1Train = metrics.f1_score(y_train, y_SVM_pred_train, average='micro')\n",
    "print('F1_score micro-average for SVM Linear (Train) =', F1Train)\n",
    "\n",
    "#'micro': Calculate metrics globally by counting the total true positives, false negatives and false positives\n",
    "\n",
    "F1Test = metrics.f1_score(y_test, y_SVM_pred, average='micro')\n",
    "print('F1_score micro-average for SVM Linear (Test) =', F1Test)"
   ]
  },
  {
   "cell_type": "markdown",
   "metadata": {},
   "source": [
    "#### Polynomial Kernel    --- worst results within SVM"
   ]
  },
  {
   "cell_type": "code",
   "execution_count": 208,
   "metadata": {},
   "outputs": [
    {
     "name": "stdout",
     "output_type": "stream",
     "text": [
      "SVM (Polynomial) Accuracy Score (Train)= 0.564706484729\n",
      "CPU times: user 5min 23s, sys: 2.29 s, total: 5min 25s\n",
      "Wall time: 5min 31s\n"
     ]
    }
   ],
   "source": [
    "%%time\n",
    "model_svm_pol = svm.SVC(kernel='poly')  #,class_weight='balanced')\n",
    "model_svm_pol.fit(X_train, y_train);\n",
    "\n",
    "y_SVM_pol_pred_train = model_svm_pol.predict(X_train)\n",
    "print('SVM (Polynomial) Accuracy Score (Train)=',metrics.accuracy_score(y_train, y_SVM_pol_pred_train))"
   ]
  },
  {
   "cell_type": "code",
   "execution_count": 209,
   "metadata": {},
   "outputs": [
    {
     "name": "stdout",
     "output_type": "stream",
     "text": [
      "SVM (Polynomial) Accuracy Score (Test)= 0.512036318022\n",
      "CPU times: user 1min 1s, sys: 369 ms, total: 1min 1s\n",
      "Wall time: 1min 2s\n"
     ]
    }
   ],
   "source": [
    "%%time\n",
    "y_SVM_pol_pred = model_svm_pol.predict(X_test)\n",
    "print('SVM (Polynomial) Accuracy Score (Test)=',metrics.accuracy_score(y_test, y_SVM_pol_pred))"
   ]
  },
  {
   "cell_type": "markdown",
   "metadata": {},
   "source": [
    "#### RBF Kernel   ----3rd Best Result"
   ]
  },
  {
   "cell_type": "markdown",
   "metadata": {},
   "source": [
    "#### decision_function_shape :  default=’ovr’"
   ]
  },
  {
   "cell_type": "code",
   "execution_count": 214,
   "metadata": {},
   "outputs": [
    {
     "name": "stdout",
     "output_type": "stream",
     "text": [
      "SVM (RBF) Accuracy Score (Train)= 0.733007347482\n",
      "CPU times: user 4min 19s, sys: 2.68 s, total: 4min 21s\n",
      "Wall time: 4min 25s\n"
     ]
    }
   ],
   "source": [
    "%%time\n",
    "model_svm_rbf = svm.SVC(kernel='rbf')        #,class_weight='balanced' already\n",
    "model_svm_rbf.fit(X_train, y_train);\n",
    "\n",
    "y_SVM_rbf_pred_train = model_svm_rbf.predict(X_train)\n",
    "print('SVM (RBF) Accuracy Score (Train)=',metrics.accuracy_score(y_train, y_SVM_rbf_pred_train))"
   ]
  },
  {
   "cell_type": "code",
   "execution_count": 215,
   "metadata": {},
   "outputs": [
    {
     "name": "stdout",
     "output_type": "stream",
     "text": [
      "SVM (RBF) Accuracy Score (Test)= 0.695060032256\n",
      "CPU times: user 1min 2s, sys: 560 ms, total: 1min 3s\n",
      "Wall time: 1min 3s\n"
     ]
    }
   ],
   "source": [
    "%%time\n",
    "y_SVM_rbf_pred = model_svm_rbf.predict(X_test)\n",
    "print('SVM (RBF) Accuracy Score (Test)=',metrics.accuracy_score(y_test, y_SVM_rbf_pred))"
   ]
  },
  {
   "cell_type": "markdown",
   "metadata": {},
   "source": [
    "#### decision_function_shape : ‘ovo’  ----- Results of 'ovo' and 'ovr' are the same "
   ]
  },
  {
   "cell_type": "code",
   "execution_count": 216,
   "metadata": {},
   "outputs": [
    {
     "name": "stdout",
     "output_type": "stream",
     "text": [
      "SVM (RBF) Accuracy Score (Train)= 0.733007347482\n",
      "CPU times: user 4min 53s, sys: 2 s, total: 4min 55s\n",
      "Wall time: 5min 2s\n"
     ]
    }
   ],
   "source": [
    "%%time\n",
    "model_svm_rbf = svm.SVC(kernel='rbf',decision_function_shape = 'ovo') #,class_weight='balanced'\n",
    "model_svm_rbf.fit(X_train, y_train);\n",
    "\n",
    "y_SVM_rbf_pred_train = model_svm_rbf.predict(X_train)\n",
    "print('SVM (RBF) Accuracy Score (Train)=',metrics.accuracy_score(y_train, y_SVM_rbf_pred_train))"
   ]
  },
  {
   "cell_type": "code",
   "execution_count": 217,
   "metadata": {
    "scrolled": true
   },
   "outputs": [
    {
     "name": "stdout",
     "output_type": "stream",
     "text": [
      "SVM (RBF) Accuracy Score (Test)= 0.695060032256\n",
      "CPU times: user 1min 3s, sys: 393 ms, total: 1min 3s\n",
      "Wall time: 1min 4s\n"
     ]
    }
   ],
   "source": [
    "%%time\n",
    "y_SVM_rbf_pred = model_svm_rbf.predict(X_test)\n",
    "print('SVM (RBF) Accuracy Score (Test)=',metrics.accuracy_score(y_test, y_SVM_rbf_pred))"
   ]
  },
  {
   "cell_type": "code",
   "execution_count": 218,
   "metadata": {},
   "outputs": [
    {
     "name": "stdout",
     "output_type": "stream",
     "text": [
      "Recall micro-average for SVM RBF (Train) = 0.733007347482\n",
      "Recall micro-average for SVM RBF (Test) = 0.695060032256\n"
     ]
    }
   ],
   "source": [
    "#'micro': Calculate metrics globally by counting the total true positives, false negatives and false positives\n",
    "\n",
    "RecallTrain = metrics.recall_score(y_train, y_SVM_rbf_pred_train, average='micro')\n",
    "print('Recall micro-average for SVM RBF (Train) =', RecallTrain)\n",
    "\n",
    "#'micro': Calculate metrics globally by counting the total true positives, false negatives and false positives\n",
    "\n",
    "RecallTest = metrics.recall_score(y_test,  y_SVM_rbf_pred, average='micro')\n",
    "print('Recall micro-average for SVM RBF (Test) =', RecallTest)"
   ]
  },
  {
   "cell_type": "code",
   "execution_count": 219,
   "metadata": {},
   "outputs": [
    {
     "name": "stdout",
     "output_type": "stream",
     "text": [
      "Precision micro-average for SVM RBF (Train) = 0.733007347482\n",
      "Precision micro-average for SVM RBF (Test) = 0.695060032256\n"
     ]
    }
   ],
   "source": [
    "#'micro': Calculate metrics globally by counting the total true positives, false negatives and false positives\n",
    "\n",
    "PrecisionTrain = metrics.precision_score(y_train, y_SVM_rbf_pred_train, average='micro')\n",
    "print('Precision micro-average for SVM RBF (Train) =', PrecisionTrain)\n",
    "\n",
    "#'micro': Calculate metrics globally by counting the total true positives, false negatives and false positives\n",
    "\n",
    "PrecisionTest = metrics.precision_score(y_test, y_SVM_rbf_pred, average='micro')\n",
    "print('Precision micro-average for SVM RBF (Test) =', PrecisionTest)"
   ]
  },
  {
   "cell_type": "code",
   "execution_count": 220,
   "metadata": {},
   "outputs": [
    {
     "name": "stdout",
     "output_type": "stream",
     "text": [
      "F1_score micro-average for SVM RBF (Train) = 0.733007347482\n",
      "F1_score micro-average for SVM RBF (Test) = 0.695060032256\n"
     ]
    }
   ],
   "source": [
    "#'micro': Calculate metrics globally by counting the total true positives, false negatives and false positives\n",
    "\n",
    "F1Train = metrics.f1_score(y_train, y_SVM_rbf_pred_train, average='micro')\n",
    "print('F1_score micro-average for SVM RBF (Train) =', F1Train)\n",
    "\n",
    "#'micro': Calculate metrics globally by counting the total true positives, false negatives and false positives\n",
    "\n",
    "F1Test = metrics.f1_score(y_test, y_SVM_rbf_pred, average='micro')\n",
    "print('F1_score micro-average for SVM RBF (Test) =', F1Test)"
   ]
  },
  {
   "cell_type": "code",
   "execution_count": 221,
   "metadata": {},
   "outputs": [
    {
     "name": "stdout",
     "output_type": "stream",
     "text": [
      "             precision    recall  f1-score   support\n",
      "\n",
      "          3       0.88      0.92      0.90       540\n",
      "          5       0.77      0.86      0.81       540\n",
      "          6       0.83      0.84      0.84       540\n",
      "          7       0.70      0.62      0.66       540\n",
      "          8       0.59      0.73      0.65       540\n",
      "          9       0.57      0.42      0.48       540\n",
      "         15       0.68      0.53      0.60       540\n",
      "         18       0.73      0.81      0.77       540\n",
      "         20       0.75      0.92      0.83       540\n",
      "         21       0.74      0.83      0.79       540\n",
      "         22       0.78      0.72      0.75       540\n",
      "         24       0.65      0.54      0.59       540\n",
      "         25       0.64      0.66      0.65       540\n",
      "         26       0.72      0.88      0.79       540\n",
      "         27       0.79      0.87      0.83       540\n",
      "         30       0.64      0.77      0.70       541\n",
      "         31       0.91      0.93      0.92       540\n",
      "         32       0.73      0.84      0.78       540\n",
      "         33       0.71      0.78      0.74       540\n",
      "         34       0.78      0.93      0.85       540\n",
      "         35       0.58      0.75      0.66       540\n",
      "         36       0.67      0.71      0.69       540\n",
      "         37       0.62      0.71      0.66       540\n",
      "         38       0.55      0.58      0.56       540\n",
      "         39       0.42      0.33      0.37       540\n",
      "         40       0.64      0.81      0.72       540\n",
      "         41       0.63      0.41      0.49       540\n",
      "         42       0.50      0.20      0.28       540\n",
      "         43       0.48      0.34      0.40       540\n",
      "         44       0.66      0.64      0.65       540\n",
      "        999       1.00      0.66      0.80       540\n",
      "\n",
      "avg / total       0.69      0.70      0.68     16741\n",
      "\n"
     ]
    }
   ],
   "source": [
    "print(classification_report(y_test, y_SVM_rbf_pred))"
   ]
  },
  {
   "cell_type": "markdown",
   "metadata": {},
   "source": [
    "#### Confusion Matrix - SVM, kernel ='rbf'"
   ]
  },
  {
   "cell_type": "code",
   "execution_count": 222,
   "metadata": {},
   "outputs": [
    {
     "data": {
      "image/png": "[encoded data removed]",
      "text/plain": [
       "<matplotlib.figure.Figure at 0x128301cf8>"
      ]
     },
     "metadata": {},
     "output_type": "display_data"
    }
   ],
   "source": [
    "figsize(15, 15)\n",
    "plot_confusion('Confusion Matrix - SVM, kernel = rbf',y_test, y_SVM_rbf_pred)"
   ]
  },
  {
   "cell_type": "markdown",
   "metadata": {},
   "source": [
    "  "
   ]
  },
  {
   "cell_type": "markdown",
   "metadata": {},
   "source": [
    "  "
   ]
  },
  {
   "cell_type": "markdown",
   "metadata": {},
   "source": [
    "  "
   ]
  },
  {
   "cell_type": "markdown",
   "metadata": {},
   "source": [
    "  "
   ]
  },
  {
   "cell_type": "markdown",
   "metadata": {},
   "source": [
    "  "
   ]
  },
  {
   "cell_type": "markdown",
   "metadata": {},
   "source": [
    "#### Decision Tree Classifier"
   ]
  },
  {
   "cell_type": "code",
   "execution_count": 210,
   "metadata": {
    "collapsed": true
   },
   "outputs": [],
   "source": [
    "from sklearn.tree import DecisionTreeClassifier"
   ]
  },
  {
   "cell_type": "code",
   "execution_count": 211,
   "metadata": {},
   "outputs": [
    {
     "name": "stdout",
     "output_type": "stream",
     "text": [
      "Decision Tree Classifier Accuracy Score (Train)= 0.55423568265\n",
      "CPU times: user 393 ms, sys: 27.9 ms, total: 421 ms\n",
      "Wall time: 423 ms\n"
     ]
    }
   ],
   "source": [
    "%%time\n",
    "DTC = DecisionTreeClassifier(max_depth=15)      #class_weight='balanced' already\n",
    "DTC.fit(X_train, y_train);\n",
    "\n",
    "y_DTC_pred_train = DTC.predict(X_train)\n",
    "print('Decision Tree Classifier Accuracy Score (Train)=',metrics.accuracy_score(y_train, y_DTC_pred_train))"
   ]
  },
  {
   "cell_type": "code",
   "execution_count": 212,
   "metadata": {},
   "outputs": [
    {
     "name": "stdout",
     "output_type": "stream",
     "text": [
      "Decision Tree Classifier Accuracy Score(Test)= 0.512573920315\n",
      "CPU times: user 13.2 ms, sys: 7.81 ms, total: 21 ms\n",
      "Wall time: 19.4 ms\n"
     ]
    }
   ],
   "source": [
    "%%time\n",
    "y_DTC_pred = DTC.predict(X_test)\n",
    "print('Decision Tree Classifier Accuracy Score(Test)=',metrics.accuracy_score(y_test, y_DTC_pred))"
   ]
  },
  {
   "cell_type": "code",
   "execution_count": 183,
   "metadata": {},
   "outputs": [
    {
     "name": "stdout",
     "output_type": "stream",
     "text": [
      "Recall micro-average for DTC (Train) = 0.55423568265\n",
      "Recall micro-average for DTC (Test) = 0.512394719551\n"
     ]
    }
   ],
   "source": [
    "#'micro': Calculate metrics globally by counting the total true positives, false negatives and false positives\n",
    "\n",
    "RecallTrain = metrics.recall_score(y_train, y_DTC_pred_train, average='micro')\n",
    "print('Recall micro-average for DTC (Train) =', RecallTrain)\n",
    "\n",
    "#'micro': Calculate metrics globally by counting the total true positives, false negatives and false positives\n",
    "\n",
    "RecallTest = metrics.recall_score(y_test,  y_DTC_pred, average='micro')\n",
    "print('Recall micro-average for DTC (Test) =', RecallTest)"
   ]
  },
  {
   "cell_type": "code",
   "execution_count": 184,
   "metadata": {},
   "outputs": [
    {
     "name": "stdout",
     "output_type": "stream",
     "text": [
      "Precision micro-average for DTC (Train) = 0.55423568265\n",
      "Precision micro-average for DTC (Test) = 0.512394719551\n"
     ]
    }
   ],
   "source": [
    "#'micro': Calculate metrics globally by counting the total true positives, false negatives and false positives\n",
    "\n",
    "PrecisionTrain = metrics.precision_score(y_train,  y_DTC_pred_train, average='micro')\n",
    "print('Precision micro-average for DTC (Train) =', PrecisionTrain)\n",
    "\n",
    "#'micro': Calculate metrics globally by counting the total true positives, false negatives and false positives\n",
    "\n",
    "PrecisionTest = metrics.precision_score(y_test, y_DTC_pred, average='micro')\n",
    "print('Precision micro-average for DTC (Test) =', PrecisionTest)"
   ]
  },
  {
   "cell_type": "code",
   "execution_count": 185,
   "metadata": {},
   "outputs": [
    {
     "name": "stdout",
     "output_type": "stream",
     "text": [
      "F1_score micro-average for DTC (Train) = 0.55423568265\n",
      "F1_score micro-average for DTC (Test) = 0.512394719551\n"
     ]
    }
   ],
   "source": [
    "#'micro': Calculate metrics globally by counting the total true positives, false negatives and false positives\n",
    "\n",
    "F1Train = metrics.f1_score(y_train,y_DTC_pred_train, average='micro')\n",
    "print('F1_score micro-average for DTC (Train) =', F1Train)\n",
    "\n",
    "#'micro': Calculate metrics globally by counting the total true positives, false negatives and false positives\n",
    "\n",
    "F1Test = metrics.f1_score(y_test, y_DTC_pred, average='micro')\n",
    "print('F1_score micro-average for DTC (Test) =', F1Test)"
   ]
  },
  {
   "cell_type": "markdown",
   "metadata": {},
   "source": [
    "  "
   ]
  },
  {
   "cell_type": "markdown",
   "metadata": {},
   "source": [
    "  "
   ]
  },
  {
   "cell_type": "markdown",
   "metadata": {},
   "source": [
    "  "
   ]
  },
  {
   "cell_type": "markdown",
   "metadata": {},
   "source": [
    "  "
   ]
  },
  {
   "cell_type": "markdown",
   "metadata": {},
   "source": [
    "#### Random Forest Classifier  - 2nd BEST"
   ]
  },
  {
   "cell_type": "code",
   "execution_count": 186,
   "metadata": {
    "collapsed": true
   },
   "outputs": [],
   "source": [
    "from sklearn.ensemble import RandomForestClassifier"
   ]
  },
  {
   "cell_type": "code",
   "execution_count": 199,
   "metadata": {},
   "outputs": [
    {
     "name": "stdout",
     "output_type": "stream",
     "text": [
      "Random Forest Classifier Accuracy Score (Train)= 0.780189959294\n",
      "CPU times: user 848 ms, sys: 69.2 ms, total: 918 ms\n",
      "Wall time: 920 ms\n"
     ]
    }
   ],
   "source": [
    "%%time\n",
    "RFC =  RandomForestClassifier(class_weight='balanced',min_samples_split=45)\n",
    "RFC.fit(X_train, y_train);\n",
    "\n",
    "y_RFC_pred_train = RFC.predict(X_train)\n",
    "print('Random Forest Classifier Accuracy Score (Train)=',metrics.accuracy_score(y_train, y_RFC_pred_train))"
   ]
  },
  {
   "cell_type": "code",
   "execution_count": 200,
   "metadata": {},
   "outputs": [
    {
     "name": "stdout",
     "output_type": "stream",
     "text": [
      "Random Forest Classifier Accuracy Score(Test)= 0.705931545308\n",
      "CPU times: user 95.1 ms, sys: 30.6 ms, total: 126 ms\n",
      "Wall time: 124 ms\n"
     ]
    }
   ],
   "source": [
    "%%time\n",
    "y_RFC_pred = RFC.predict(X_test)\n",
    "print('Random Forest Classifier Accuracy Score(Test)=',metrics.accuracy_score(y_test, y_RFC_pred))"
   ]
  },
  {
   "cell_type": "code",
   "execution_count": 201,
   "metadata": {},
   "outputs": [
    {
     "name": "stdout",
     "output_type": "stream",
     "text": [
      "Recall micro-average for RFC (Train) = 0.780189959294\n",
      "Recall micro-average for RFC (Test) = 0.705931545308\n"
     ]
    }
   ],
   "source": [
    "#'micro': Calculate metrics globally by counting the total true positives, false negatives and false positives\n",
    "\n",
    "RecallTrain = metrics.recall_score(y_train, y_RFC_pred_train, average='micro')\n",
    "print('Recall micro-average for RFC (Train) =', RecallTrain)\n",
    "\n",
    "#'micro': Calculate metrics globally by counting the total true positives, false negatives and false positives\n",
    "\n",
    "RecallTest = metrics.recall_score(y_test,   y_RFC_pred, average='micro')\n",
    "print('Recall micro-average for RFC (Test) =', RecallTest)"
   ]
  },
  {
   "cell_type": "code",
   "execution_count": 202,
   "metadata": {},
   "outputs": [
    {
     "name": "stdout",
     "output_type": "stream",
     "text": [
      "Precision micro-average for RFC (Train) = 0.780189959294\n",
      "Precision micro-average for RFC (Test) = 0.705931545308\n"
     ]
    }
   ],
   "source": [
    "#'micro': Calculate metrics globally by counting the total true positives, false negatives and false positives\n",
    "\n",
    "PrecisionTrain = metrics.precision_score(y_train,  y_RFC_pred_train, average='micro')\n",
    "print('Precision micro-average for RFC (Train) =', PrecisionTrain)\n",
    "\n",
    "#'micro': Calculate metrics globally by counting the total true positives, false negatives and false positives\n",
    "\n",
    "PrecisionTest = metrics.precision_score(y_test, y_RFC_pred, average='micro')\n",
    "print('Precision micro-average for RFC (Test) =', PrecisionTest)"
   ]
  },
  {
   "cell_type": "code",
   "execution_count": 203,
   "metadata": {},
   "outputs": [
    {
     "name": "stdout",
     "output_type": "stream",
     "text": [
      "F1_score micro-average for RFC (Train) = 0.780189959294\n",
      "F1_score micro-average for RFC (Test) = 0.705931545308\n"
     ]
    }
   ],
   "source": [
    "#'micro': Calculate metrics globally by counting the total true positives, false negatives and false positives\n",
    "\n",
    "F1Train = metrics.f1_score(y_train,y_RFC_pred_train, average='micro')\n",
    "print('F1_score micro-average for RFC (Train) =', F1Train)\n",
    "\n",
    "#'micro': Calculate metrics globally by counting the total true positives, false negatives and false positives\n",
    "\n",
    "F1Test = metrics.f1_score(y_test,y_RFC_pred, average='micro')\n",
    "print('F1_score micro-average for RFC (Test) =', F1Test)"
   ]
  },
  {
   "cell_type": "code",
   "execution_count": 204,
   "metadata": {},
   "outputs": [
    {
     "name": "stdout",
     "output_type": "stream",
     "text": [
      "Random Forest Classifier Accuracy Score(Test)= 0.705931545308\n",
      "             precision    recall  f1-score   support\n",
      "\n",
      "          3       0.85      0.97      0.90       540\n",
      "          5       0.85      0.80      0.82       540\n",
      "          6       0.82      0.88      0.85       540\n",
      "          7       0.72      0.59      0.64       540\n",
      "          8       0.64      0.72      0.68       540\n",
      "          9       0.70      0.37      0.48       540\n",
      "         15       0.71      0.61      0.65       540\n",
      "         18       0.72      0.89      0.80       540\n",
      "         20       0.80      0.95      0.86       540\n",
      "         21       0.77      0.90      0.83       540\n",
      "         22       0.79      0.87      0.83       540\n",
      "         24       0.65      0.55      0.59       540\n",
      "         25       0.61      0.60      0.61       540\n",
      "         26       0.73      0.91      0.81       540\n",
      "         27       0.77      0.92      0.84       540\n",
      "         30       0.67      0.79      0.73       541\n",
      "         31       0.87      0.97      0.92       540\n",
      "         32       0.67      0.87      0.76       540\n",
      "         33       0.71      0.80      0.75       540\n",
      "         34       0.75      0.97      0.85       540\n",
      "         35       0.58      0.71      0.64       540\n",
      "         36       0.70      0.66      0.68       540\n",
      "         37       0.54      0.65      0.59       540\n",
      "         38       0.54      0.59      0.56       540\n",
      "         39       0.36      0.16      0.22       540\n",
      "         40       0.62      0.79      0.70       540\n",
      "         41       0.71      0.61      0.65       540\n",
      "         42       0.47      0.11      0.18       540\n",
      "         43       0.68      0.39      0.50       540\n",
      "         44       0.57      0.60      0.58       540\n",
      "        999       1.00      0.71      0.83       540\n",
      "\n",
      "avg / total       0.70      0.71      0.69     16741\n",
      "\n",
      "CPU times: user 99.7 ms, sys: 15.3 ms, total: 115 ms\n",
      "Wall time: 113 ms\n"
     ]
    }
   ],
   "source": [
    "%%time\n",
    "y_RFC_pred = RFC.predict(X_test)\n",
    "print('Random Forest Classifier Accuracy Score(Test)=',metrics.accuracy_score(y_test, y_RFC_pred))\n",
    "print(classification_report(y_test, y_RFC_pred))"
   ]
  },
  {
   "cell_type": "markdown",
   "metadata": {},
   "source": [
    "#### Confusion Matrix- Random Forest"
   ]
  },
  {
   "cell_type": "code",
   "execution_count": 205,
   "metadata": {},
   "outputs": [
    {
     "data": {
      "image/png": "[encoded data removed]",
      "text/plain": [
       "<matplotlib.figure.Figure at 0x118fdd8d0>"
      ]
     },
     "metadata": {},
     "output_type": "display_data"
    }
   ],
   "source": [
    "figsize(15, 15)\n",
    "plot_confusion('Confusion Matrix -  Random Forest',y_test, y_RFC_pred)"
   ]
  },
  {
   "cell_type": "markdown",
   "metadata": {},
   "source": [
    "## Grid Search CV"
   ]
  },
  {
   "cell_type": "code",
   "execution_count": 249,
   "metadata": {
    "collapsed": true
   },
   "outputs": [],
   "source": [
    "RFC =  RandomForestClassifier()      #class_weight='balanced',"
   ]
  },
  {
   "cell_type": "code",
   "execution_count": 250,
   "metadata": {},
   "outputs": [
    {
     "name": "stdout",
     "output_type": "stream",
     "text": [
      "[5, 10, 15, 20, 25, 30, 35, 40, 45, 50, 55, 60]\n"
     ]
    }
   ],
   "source": [
    "# define the parameter values that should be searched\n",
    "Min_range = list(range(5, 61,5))  \n",
    "print(Min_range)"
   ]
  },
  {
   "cell_type": "code",
   "execution_count": 251,
   "metadata": {},
   "outputs": [
    {
     "name": "stdout",
     "output_type": "stream",
     "text": [
      "{'min_samples_split': [5, 10, 15, 20, 25, 30, 35, 40, 45, 50, 55, 60]}\n"
     ]
    }
   ],
   "source": [
    "# create a parameter grid: map the parameter names to the values that should be searched\n",
    "param_grid = dict(min_samples_split=Min_range)\n",
    "print(param_grid)"
   ]
  },
  {
   "cell_type": "code",
   "execution_count": 254,
   "metadata": {},
   "outputs": [],
   "source": [
    "# instantiate the grid\n",
    "grid = GridSearchCV(RFC, param_grid, cv=10, scoring='accuracy')"
   ]
  },
  {
   "cell_type": "code",
   "execution_count": 255,
   "metadata": {
    "collapsed": true
   },
   "outputs": [],
   "source": [
    "# fit grid with data(Train set used here for cross validation -- test set would be used as a hold out for predict scores)\n",
    "grid.fit(X_train, y_train);"
   ]
  },
  {
   "cell_type": "code",
   "execution_count": 256,
   "metadata": {},
   "outputs": [
    {
     "name": "stderr",
     "output_type": "stream",
     "text": [
      "/Users/sdutta/anaconda/lib/python3.6/site-packages/sklearn/model_selection/_search.py:667: DeprecationWarning: The grid_scores_ attribute was deprecated in version 0.18 in favor of the more elaborate cv_results_ attribute. The grid_scores_ attribute will not be available from 0.20\n",
      "  DeprecationWarning)\n"
     ]
    },
    {
     "data": {
      "text/plain": [
       "[mean: 0.74110, std: 0.00507, params: {'min_samples_split': 5},\n",
       " mean: 0.73265, std: 0.00335, params: {'min_samples_split': 10},\n",
       " mean: 0.72458, std: 0.00477, params: {'min_samples_split': 15},\n",
       " mean: 0.71619, std: 0.00498, params: {'min_samples_split': 20},\n",
       " mean: 0.71332, std: 0.00236, params: {'min_samples_split': 25},\n",
       " mean: 0.70730, std: 0.00583, params: {'min_samples_split': 30},\n",
       " mean: 0.70134, std: 0.00609, params: {'min_samples_split': 35},\n",
       " mean: 0.69955, std: 0.00685, params: {'min_samples_split': 40},\n",
       " mean: 0.69343, std: 0.00481, params: {'min_samples_split': 45},\n",
       " mean: 0.69304, std: 0.00387, params: {'min_samples_split': 50},\n",
       " mean: 0.69041, std: 0.00444, params: {'min_samples_split': 55},\n",
       " mean: 0.69064, std: 0.00598, params: {'min_samples_split': 60}]"
      ]
     },
     "execution_count": 256,
     "metadata": {},
     "output_type": "execute_result"
    }
   ],
   "source": [
    "# view the complete results (list of named tuples)\n",
    "\n",
    "grid.grid_scores_"
   ]
  },
  {
   "cell_type": "code",
   "execution_count": 257,
   "metadata": {},
   "outputs": [
    {
     "name": "stdout",
     "output_type": "stream",
     "text": [
      "Best Accuracy Score:  0.741097258135\n",
      "Best Param:  {'min_samples_split': 5}\n",
      "Best Estimator:  RandomForestClassifier(bootstrap=True, class_weight=None, criterion='gini',\n",
      "            max_depth=None, max_features='auto', max_leaf_nodes=None,\n",
      "            min_impurity_split=1e-07, min_samples_leaf=1,\n",
      "            min_samples_split=5, min_weight_fraction_leaf=0.0,\n",
      "            n_estimators=10, n_jobs=1, oob_score=False, random_state=None,\n",
      "            verbose=0, warm_start=False)\n"
     ]
    }
   ],
   "source": [
    "# examine the best model\n",
    "print(\"Best Accuracy Score: \", grid.best_score_)\n",
    "print(\"Best Param: \",grid.best_params_)\n",
    "print(\"Best Estimator: \",grid.best_estimator_)"
   ]
  },
  {
   "cell_type": "code",
   "execution_count": 259,
   "metadata": {
    "collapsed": true
   },
   "outputs": [],
   "source": [
    "from sklearn.model_selection import cross_val_score"
   ]
  },
  {
   "cell_type": "code",
   "execution_count": 260,
   "metadata": {},
   "outputs": [
    {
     "name": "stdout",
     "output_type": "stream",
     "text": [
      "RFC (min_samples_split=5) CV Scores \n",
      "Cross Validated Accuracy:   0.7414\n",
      "Cross Validated Precision:  0.7421\n",
      "Cross Validated Recall:     0.7427\n",
      "Cross Validated F1:         0.7419\n",
      "CPU times: user 30.5 s, sys: 2.36 s, total: 32.9 s\n",
      "Wall time: 33.4 s\n"
     ]
    }
   ],
   "source": [
    "%%time\n",
    "classifier = grid.best_estimator_\n",
    "CV_Accuracy = cross_val_score(classifier, X_train, y_train, cv=10, scoring='accuracy').mean()\n",
    "CV_Precision = cross_val_score(classifier, X_train, y_train, cv=10, scoring='precision_micro').mean()\n",
    "CV_Recall = cross_val_score(classifier, X_train, y_train, cv=10, scoring='recall_micro').mean()\n",
    "CV_F1 = cross_val_score(classifier, X_train, y_train, cv=10, scoring='f1_micro').mean()\n",
    "\n",
    "print('RFC (min_samples_split=5) CV Scores ')  \n",
    "print(\"Cross Validated Accuracy:   %0.4f\" %(CV_Accuracy))\n",
    "print(\"Cross Validated Precision:  %0.4f\" %(CV_Precision))\n",
    "print(\"Cross Validated Recall:     %0.4f\" %(CV_Recall))\n",
    "print(\"Cross Validated F1:         %0.4f\" %(CV_F1))"
   ]
  },
  {
   "cell_type": "code",
   "execution_count": null,
   "metadata": {
    "collapsed": true
   },
   "outputs": [],
   "source": []
  },
  {
   "cell_type": "markdown",
   "metadata": {},
   "source": [
    "   "
   ]
  },
  {
   "cell_type": "markdown",
   "metadata": {},
   "source": [
    "  "
   ]
  },
  {
   "cell_type": "markdown",
   "metadata": {},
   "source": [
    "#### Combination of KNN RFC and Logistic"
   ]
  },
  {
   "cell_type": "code",
   "execution_count": 206,
   "metadata": {},
   "outputs": [
    {
     "data": {
      "text/plain": [
       "(16741, 16741, 16741)"
      ]
     },
     "execution_count": 206,
     "metadata": {},
     "output_type": "execute_result"
    }
   ],
   "source": [
    "len(y_RFC_pred), len(y_knn_pred), len(y_Log_pred)"
   ]
  },
  {
   "cell_type": "code",
   "execution_count": 207,
   "metadata": {},
   "outputs": [
    {
     "ename": "NameError",
     "evalue": "name 'y_SVM_rbf_pred' is not defined",
     "output_type": "error",
     "traceback": [
      "\u001b[0;31m---------------------------------------------------------------------------\u001b[0m",
      "\u001b[0;31mNameError\u001b[0m                                 Traceback (most recent call last)",
      "\u001b[0;32m<ipython-input-207-e453959cde74>\u001b[0m in \u001b[0;36m<module>\u001b[0;34m()\u001b[0m\n\u001b[1;32m      1\u001b[0m \u001b[0my_ens\u001b[0m \u001b[0;34m=\u001b[0m \u001b[0;34m[\u001b[0m\u001b[0;34m]\u001b[0m\u001b[0;34m\u001b[0m\u001b[0m\n\u001b[1;32m      2\u001b[0m \u001b[0;32mfor\u001b[0m \u001b[0mi\u001b[0m \u001b[0;32min\u001b[0m \u001b[0mrange\u001b[0m\u001b[0;34m(\u001b[0m\u001b[0mlen\u001b[0m\u001b[0;34m(\u001b[0m\u001b[0my_RFC_pred\u001b[0m\u001b[0;34m)\u001b[0m\u001b[0;34m)\u001b[0m\u001b[0;34m:\u001b[0m\u001b[0;34m\u001b[0m\u001b[0m\n\u001b[0;32m----> 3\u001b[0;31m     \u001b[0;32mif\u001b[0m \u001b[0my_RFC_pred\u001b[0m\u001b[0;34m[\u001b[0m\u001b[0mi\u001b[0m\u001b[0;34m]\u001b[0m\u001b[0;34m==\u001b[0m\u001b[0my_SVM_rbf_pred\u001b[0m\u001b[0;34m[\u001b[0m\u001b[0mi\u001b[0m\u001b[0;34m]\u001b[0m\u001b[0;34m:\u001b[0m\u001b[0;34m\u001b[0m\u001b[0m\n\u001b[0m\u001b[1;32m      4\u001b[0m         \u001b[0my_ens\u001b[0m\u001b[0;34m.\u001b[0m\u001b[0mappend\u001b[0m\u001b[0;34m(\u001b[0m\u001b[0my_RFC_pred\u001b[0m\u001b[0;34m[\u001b[0m\u001b[0mi\u001b[0m\u001b[0;34m]\u001b[0m\u001b[0;34m)\u001b[0m\u001b[0;34m\u001b[0m\u001b[0m\n\u001b[1;32m      5\u001b[0m     \u001b[0;32melse\u001b[0m\u001b[0;34m:\u001b[0m\u001b[0;34m\u001b[0m\u001b[0m\n",
      "\u001b[0;31mNameError\u001b[0m: name 'y_SVM_rbf_pred' is not defined"
     ]
    }
   ],
   "source": [
    "y_ens = []\n",
    "for i in range(len(y_RFC_pred)):\n",
    "    if y_RFC_pred[i]==y_SVM_rbf_pred[i]:\n",
    "        y_ens.append(y_RFC_pred[i])\n",
    "    else:\n",
    "        y_ens.append(y_knn_pred[i])\n",
    "print('Combined Classifier Accuracy Score(Test)=',metrics.accuracy_score(y_test, y_ens))\n",
    "print(classification_report(y_test, y_ens))"
   ]
  },
  {
   "cell_type": "code",
   "execution_count": null,
   "metadata": {
    "collapsed": true
   },
   "outputs": [],
   "source": []
  },
  {
   "cell_type": "code",
   "execution_count": null,
   "metadata": {
    "collapsed": true
   },
   "outputs": [],
   "source": []
  },
  {
   "cell_type": "code",
   "execution_count": null,
   "metadata": {
    "collapsed": true
   },
   "outputs": [],
   "source": []
  },
  {
   "cell_type": "code",
   "execution_count": null,
   "metadata": {
    "collapsed": true
   },
   "outputs": [],
   "source": []
  },
  {
   "cell_type": "code",
   "execution_count": null,
   "metadata": {
    "collapsed": true
   },
   "outputs": [],
   "source": [
    "logregM = LogisticRegression(C=1, penalty='l2', random_state=0, class_weight='balanced')\n",
    "\n",
    "logregM.fit(X_train_scaled, y_train)"
   ]
  }
 ],
 "metadata": {
  "kernelspec": {
   "display_name": "Python 3",
   "language": "python",
   "name": "python3"
  },
  "language_info": {
   "codemirror_mode": {
    "name": "ipython",
    "version": 3
   },
   "file_extension": ".py",
   "mimetype": "text/x-python",
   "name": "python",
   "nbconvert_exporter": "python",
   "pygments_lexer": "ipython3",
   "version": "3.6.1"
  }
 },
 "nbformat": 4,
 "nbformat_minor": 2
}
